{
 "cells": [
  {
   "cell_type": "code",
   "execution_count": null,
   "metadata": {},
   "outputs": [],
   "source": [
    "Three trends"
   ]
  },
  {
   "cell_type": "markdown",
   "metadata": {},
   "source": [
    "# WeatherPy\n",
    "----\n",
    "\n",
    "#### Note\n",
    "* Instructions have been included for each segment. You do not have to follow them exactly, but they are included to help you think through the steps."
   ]
  },
  {
   "cell_type": "code",
   "execution_count": null,
   "metadata": {
    "scrolled": true
   },
   "outputs": [],
   "source": []
  },
  {
   "cell_type": "code",
   "execution_count": 1,
   "metadata": {
    "scrolled": true
   },
   "outputs": [],
   "source": [
    "# Dependencies and Setup\n",
    "import matplotlib.pyplot as plt\n",
    "import pandas as pd\n",
    "import numpy as np\n",
    "import requests\n",
    "import time\n",
    "from scipy.stats import linregress\n",
    "from pprint import pprint\n",
    "\n",
    "# Import API key\n",
    "from api_keys import weather_api_key\n",
    "\n",
    "# Incorporated citipy to determine city based on latitude and longitude\n",
    "from citipy import citipy\n",
    "\n",
    "# Output File (CSV)\n",
    "output_data_file = \"output_data/cities.csv\"\n",
    "\n",
    "# Range of latitudes and longitudes\n",
    "lat_range = (-90, 90)\n",
    "lng_range = (-180, 180)"
   ]
  },
  {
   "cell_type": "markdown",
   "metadata": {},
   "source": [
    "## Generate Cities List"
   ]
  },
  {
   "cell_type": "code",
   "execution_count": 2,
   "metadata": {},
   "outputs": [
    {
     "data": {
      "text/plain": [
       "639"
      ]
     },
     "execution_count": 2,
     "metadata": {},
     "output_type": "execute_result"
    }
   ],
   "source": [
    "# List for holding lat_lngs and cities\n",
    "lat_lngs = []\n",
    "cities = []\n",
    "\n",
    "# Create a set of random lat and lng combinations\n",
    "lats = np.random.uniform(lat_range[0], lat_range[1], size=1500)\n",
    "lngs = np.random.uniform(lng_range[0], lng_range[1], size=1500)\n",
    "lat_lngs = zip(lats, lngs)\n",
    "\n",
    "# Identify nearest city for each lat, lng combination\n",
    "for lat_lng in lat_lngs:\n",
    "    city = citipy.nearest_city(lat_lng[0], lat_lng[1]).city_name\n",
    "    \n",
    "    # If the city is unique, then add it to a our cities list\n",
    "    if city not in cities:\n",
    "        cities.append(city)\n",
    "\n",
    "# Print the city count to confirm sufficient count\n",
    "len(cities)"
   ]
  },
  {
   "cell_type": "markdown",
   "metadata": {},
   "source": [
    "### Perform API Calls\n",
    "* Perform a weather check on each city using a series of successive API calls.\n",
    "* Include a print log of each city as it'sbeing processed (with the city number and city name).\n"
   ]
  },
  {
   "cell_type": "code",
   "execution_count": 3,
   "metadata": {},
   "outputs": [
    {
     "data": {
      "text/html": [
       "<div>\n",
       "<style scoped>\n",
       "    .dataframe tbody tr th:only-of-type {\n",
       "        vertical-align: middle;\n",
       "    }\n",
       "\n",
       "    .dataframe tbody tr th {\n",
       "        vertical-align: top;\n",
       "    }\n",
       "\n",
       "    .dataframe thead th {\n",
       "        text-align: right;\n",
       "    }\n",
       "</style>\n",
       "<table border=\"1\" class=\"dataframe\">\n",
       "  <thead>\n",
       "    <tr style=\"text-align: right;\">\n",
       "      <th></th>\n",
       "      <th>City</th>\n",
       "      <th>Lat</th>\n",
       "      <th>Lng</th>\n",
       "      <th>Max Temp</th>\n",
       "      <th>Humidity</th>\n",
       "      <th>Cloudiness</th>\n",
       "      <th>Wind Speed</th>\n",
       "      <th>Country</th>\n",
       "      <th>Date</th>\n",
       "    </tr>\n",
       "  </thead>\n",
       "  <tbody>\n",
       "    <tr>\n",
       "      <th>0</th>\n",
       "      <td>zhezkazgan</td>\n",
       "      <td></td>\n",
       "      <td></td>\n",
       "      <td></td>\n",
       "      <td></td>\n",
       "      <td></td>\n",
       "      <td></td>\n",
       "      <td></td>\n",
       "      <td></td>\n",
       "    </tr>\n",
       "    <tr>\n",
       "      <th>1</th>\n",
       "      <td>lebu</td>\n",
       "      <td></td>\n",
       "      <td></td>\n",
       "      <td></td>\n",
       "      <td></td>\n",
       "      <td></td>\n",
       "      <td></td>\n",
       "      <td></td>\n",
       "      <td></td>\n",
       "    </tr>\n",
       "    <tr>\n",
       "      <th>2</th>\n",
       "      <td>taolanaro</td>\n",
       "      <td></td>\n",
       "      <td></td>\n",
       "      <td></td>\n",
       "      <td></td>\n",
       "      <td></td>\n",
       "      <td></td>\n",
       "      <td></td>\n",
       "      <td></td>\n",
       "    </tr>\n",
       "    <tr>\n",
       "      <th>3</th>\n",
       "      <td>upernavik</td>\n",
       "      <td></td>\n",
       "      <td></td>\n",
       "      <td></td>\n",
       "      <td></td>\n",
       "      <td></td>\n",
       "      <td></td>\n",
       "      <td></td>\n",
       "      <td></td>\n",
       "    </tr>\n",
       "    <tr>\n",
       "      <th>4</th>\n",
       "      <td>bossier city</td>\n",
       "      <td></td>\n",
       "      <td></td>\n",
       "      <td></td>\n",
       "      <td></td>\n",
       "      <td></td>\n",
       "      <td></td>\n",
       "      <td></td>\n",
       "      <td></td>\n",
       "    </tr>\n",
       "    <tr>\n",
       "      <th>...</th>\n",
       "      <td>...</td>\n",
       "      <td>...</td>\n",
       "      <td>...</td>\n",
       "      <td>...</td>\n",
       "      <td>...</td>\n",
       "      <td>...</td>\n",
       "      <td>...</td>\n",
       "      <td>...</td>\n",
       "      <td>...</td>\n",
       "    </tr>\n",
       "    <tr>\n",
       "      <th>634</th>\n",
       "      <td>dwarka</td>\n",
       "      <td></td>\n",
       "      <td></td>\n",
       "      <td></td>\n",
       "      <td></td>\n",
       "      <td></td>\n",
       "      <td></td>\n",
       "      <td></td>\n",
       "      <td></td>\n",
       "    </tr>\n",
       "    <tr>\n",
       "      <th>635</th>\n",
       "      <td>cavarzere</td>\n",
       "      <td></td>\n",
       "      <td></td>\n",
       "      <td></td>\n",
       "      <td></td>\n",
       "      <td></td>\n",
       "      <td></td>\n",
       "      <td></td>\n",
       "      <td></td>\n",
       "    </tr>\n",
       "    <tr>\n",
       "      <th>636</th>\n",
       "      <td>darnah</td>\n",
       "      <td></td>\n",
       "      <td></td>\n",
       "      <td></td>\n",
       "      <td></td>\n",
       "      <td></td>\n",
       "      <td></td>\n",
       "      <td></td>\n",
       "      <td></td>\n",
       "    </tr>\n",
       "    <tr>\n",
       "      <th>637</th>\n",
       "      <td>gaimersheim</td>\n",
       "      <td></td>\n",
       "      <td></td>\n",
       "      <td></td>\n",
       "      <td></td>\n",
       "      <td></td>\n",
       "      <td></td>\n",
       "      <td></td>\n",
       "      <td></td>\n",
       "    </tr>\n",
       "    <tr>\n",
       "      <th>638</th>\n",
       "      <td>sao joao da barra</td>\n",
       "      <td></td>\n",
       "      <td></td>\n",
       "      <td></td>\n",
       "      <td></td>\n",
       "      <td></td>\n",
       "      <td></td>\n",
       "      <td></td>\n",
       "      <td></td>\n",
       "    </tr>\n",
       "  </tbody>\n",
       "</table>\n",
       "<p>639 rows × 9 columns</p>\n",
       "</div>"
      ],
      "text/plain": [
       "                  City Lat Lng Max Temp Humidity Cloudiness Wind Speed  \\\n",
       "0           zhezkazgan                                                   \n",
       "1                 lebu                                                   \n",
       "2            taolanaro                                                   \n",
       "3            upernavik                                                   \n",
       "4         bossier city                                                   \n",
       "..                 ...  ..  ..      ...      ...        ...        ...   \n",
       "634             dwarka                                                   \n",
       "635          cavarzere                                                   \n",
       "636             darnah                                                   \n",
       "637        gaimersheim                                                   \n",
       "638  sao joao da barra                                                   \n",
       "\n",
       "    Country Date  \n",
       "0                 \n",
       "1                 \n",
       "2                 \n",
       "3                 \n",
       "4                 \n",
       "..      ...  ...  \n",
       "634               \n",
       "635               \n",
       "636               \n",
       "637               \n",
       "638               \n",
       "\n",
       "[639 rows x 9 columns]"
      ]
     },
     "execution_count": 3,
     "metadata": {},
     "output_type": "execute_result"
    }
   ],
   "source": [
    "#creates dataframe for cities weather data and saves cvs\n",
    "cities_df = pd.DataFrame(cities)\n",
    "\n",
    "\n",
    "cities_df['Lat'] = ''\n",
    "cities_df['Lng'] = ''\n",
    "cities_df['Max Temp'] = ''\n",
    "cities_df['Humidity'] = ''\n",
    "cities_df['Cloudiness'] = ''\n",
    "cities_df['Wind Speed'] = ''\n",
    "cities_df['Country'] = ''\n",
    "cities_df['Date'] = ''\n",
    "cities_df.rename(columns={ cities_df.columns[0]: \"City\" }, inplace = True)\n",
    "cities_df"
   ]
  },
  {
   "cell_type": "code",
   "execution_count": 4,
   "metadata": {},
   "outputs": [
    {
     "name": "stdout",
     "output_type": "stream",
     "text": [
      "Processing record 0 | zhezkazgan\n",
      "Processing record 1 | lebu\n",
      "Processing record 2 | taolanaro\n",
      "City not found. Skipping...\n",
      "Processing record 3 | upernavik\n",
      "Processing record 4 | bossier city\n",
      "Processing record 5 | karkaralinsk\n",
      "City not found. Skipping...\n",
      "Processing record 6 | inhambane\n",
      "Processing record 7 | olinda\n",
      "Processing record 8 | ushuaia\n",
      "Processing record 9 | geraldton\n",
      "Processing record 10 | butaritari\n",
      "Processing record 11 | westerland\n",
      "Processing record 12 | rikitea\n",
      "Processing record 13 | gamba\n",
      "Processing record 14 | grand river south east\n",
      "City not found. Skipping...\n",
      "Processing record 15 | hithadhoo\n",
      "Processing record 16 | cherskiy\n",
      "Processing record 17 | mys shmidta\n",
      "City not found. Skipping...\n",
      "Processing record 18 | vostok\n",
      "Processing record 19 | nanortalik\n",
      "Processing record 20 | maues\n",
      "Processing record 21 | vanimo\n",
      "Processing record 22 | cape town\n",
      "Processing record 23 | mataura\n",
      "Processing record 24 | sentyabrskiy\n",
      "City not found. Skipping...\n",
      "Processing record 25 | port alfred\n",
      "Processing record 26 | hobart\n",
      "Processing record 27 | castro\n",
      "Processing record 28 | vaini\n",
      "Processing record 29 | hilo\n",
      "Processing record 30 | prince george\n",
      "Processing record 31 | illoqqortoormiut\n",
      "City not found. Skipping...\n",
      "Processing record 32 | henties bay\n",
      "Processing record 33 | kijang\n",
      "Processing record 34 | turukhansk\n",
      "Processing record 35 | punta arenas\n",
      "Processing record 36 | montanhas\n",
      "Processing record 37 | sur\n",
      "Processing record 38 | miaoli\n",
      "Processing record 39 | belushya guba\n",
      "City not found. Skipping...\n",
      "Processing record 40 | mogapi\n",
      "Processing record 41 | male\n",
      "Processing record 42 | east london\n",
      "Processing record 43 | ponta do sol\n",
      "Processing record 44 | mahebourg\n",
      "Processing record 45 | hasaki\n",
      "Processing record 46 | fort smith\n",
      "Processing record 47 | samusu\n",
      "City not found. Skipping...\n",
      "Processing record 48 | albany\n",
      "Processing record 49 | ust-kuyga\n",
      "Processing record 50 | hailey\n",
      "Processing record 51 | edgewater\n",
      "Processing record 52 | atasu\n",
      "Processing record 53 | yellowknife\n",
      "Processing record 54 | kruisfontein\n",
      "Processing record 55 | chokurdakh\n",
      "Processing record 56 | barrow\n",
      "Processing record 57 | yevsino\n",
      "Processing record 58 | half moon bay\n",
      "Processing record 59 | tura\n",
      "Processing record 60 | bredasdorp\n",
      "Processing record 61 | yanchukan\n",
      "City not found. Skipping...\n",
      "Processing record 62 | provideniya\n",
      "Processing record 63 | saskylakh\n",
      "Processing record 64 | dharchula\n",
      "Processing record 65 | asau\n",
      "Processing record 66 | kapaa\n",
      "Processing record 67 | new norfolk\n",
      "Processing record 68 | arraial do cabo\n",
      "Processing record 69 | maceio\n",
      "Processing record 70 | jinxiang\n",
      "Processing record 71 | winsum\n",
      "Processing record 72 | miraflores\n",
      "Processing record 73 | atuona\n",
      "Processing record 74 | sinnamary\n",
      "Processing record 75 | hermanus\n",
      "Processing record 76 | busselton\n",
      "Processing record 77 | babanusah\n",
      "City not found. Skipping...\n",
      "Processing record 78 | sol-iletsk\n",
      "Processing record 79 | kaitangata\n",
      "Processing record 80 | shingu\n",
      "Processing record 81 | deneysville\n",
      "Processing record 82 | umzimvubu\n",
      "City not found. Skipping...\n",
      "Processing record 83 | pozo colorado\n",
      "Processing record 84 | adrar\n",
      "Processing record 85 | waslala\n",
      "Processing record 86 | bethel\n",
      "Processing record 87 | harper\n",
      "Processing record 88 | togur\n",
      "Processing record 89 | goderich\n",
      "Processing record 90 | westport\n",
      "Processing record 91 | hervey bay\n",
      "Processing record 92 | khatanga\n",
      "Processing record 93 | macau\n",
      "Processing record 94 | sembakung\n",
      "Processing record 95 | posse\n",
      "Processing record 96 | tevaitoa\n",
      "Processing record 97 | mount gambier\n",
      "Processing record 98 | airai\n",
      "Processing record 99 | sitka\n",
      "Processing record 100 | paamiut\n",
      "Processing record 101 | teahupoo\n",
      "Processing record 102 | mar del plata\n",
      "Processing record 103 | belaya gora\n",
      "Processing record 104 | prieska\n",
      "Processing record 105 | iqaluit\n",
      "Processing record 106 | asosa\n",
      "Processing record 107 | port augusta\n",
      "Processing record 108 | thompson\n",
      "Processing record 109 | abu dhabi\n",
      "Processing record 110 | zhenlai\n",
      "Processing record 111 | enkhuizen\n",
      "Processing record 112 | colesberg\n",
      "Processing record 113 | havre-saint-pierre\n",
      "Processing record 114 | kontagora\n",
      "Processing record 115 | port lincoln\n",
      "Processing record 116 | emporia\n",
      "Processing record 117 | jamestown\n",
      "Processing record 118 | kuching\n",
      "Processing record 119 | nikolskoye\n",
      "Processing record 120 | leh\n",
      "Processing record 121 | qaanaaq\n",
      "Processing record 122 | mahibadhoo\n",
      "Processing record 123 | kamenka\n",
      "Processing record 124 | banjar\n",
      "Processing record 125 | kalemie\n",
      "Processing record 126 | sribne\n",
      "Processing record 127 | taitung\n",
      "Processing record 128 | teneguiban\n",
      "City not found. Skipping...\n",
      "Processing record 129 | matay\n",
      "Processing record 130 | homer\n",
      "Processing record 131 | skjervoy\n",
      "Processing record 132 | jalu\n",
      "Processing record 133 | bluff\n",
      "Processing record 134 | cabedelo\n",
      "Processing record 135 | giovinazzo\n",
      "Processing record 136 | tidore\n",
      "City not found. Skipping...\n",
      "Processing record 137 | parabel\n",
      "Processing record 138 | mongo\n",
      "Processing record 139 | yarmouth\n",
      "Processing record 140 | tonantins\n",
      "Processing record 141 | aksarka\n",
      "Processing record 142 | calvinia\n",
      "Processing record 143 | amderma\n",
      "City not found. Skipping...\n",
      "Processing record 144 | puerto ayora\n",
      "Processing record 145 | georgetown\n",
      "Processing record 146 | esna\n",
      "Processing record 147 | baijiantan\n",
      "Processing record 148 | berlevag\n",
      "Processing record 149 | el porvenir\n",
      "Processing record 150 | dobryanka\n",
      "Processing record 151 | norman wells\n",
      "Processing record 152 | strezhevoy\n",
      "Processing record 153 | dingle\n",
      "Processing record 154 | pasighat\n",
      "Processing record 155 | bolungarvik\n",
      "City not found. Skipping...\n",
      "Processing record 156 | kumluca\n",
      "Processing record 157 | kandrian\n",
      "Processing record 158 | irbeyskoye\n",
      "Processing record 159 | sibolga\n",
      "Processing record 160 | gat\n",
      "Processing record 161 | namibe\n",
      "Processing record 162 | port blair\n",
      "Processing record 163 | pangoa\n",
      "Processing record 164 | grindavik\n",
      "Processing record 165 | lavrentiya\n",
      "Processing record 166 | san patricio\n",
      "Processing record 167 | kamaishi\n",
      "Processing record 168 | vilhena\n",
      "Processing record 169 | karratha\n",
      "Processing record 170 | kouango\n",
      "Processing record 171 | dikson\n",
      "Processing record 172 | kalmunai\n",
      "Processing record 173 | kavieng\n",
      "Processing record 174 | vitimskiy\n",
      "City not found. Skipping...\n",
      "Processing record 175 | mende\n",
      "Processing record 176 | namatanai\n",
      "Processing record 177 | khorramshahr\n",
      "Processing record 178 | port elizabeth\n",
      "Processing record 179 | troutdale\n",
      "Processing record 180 | faanui\n",
      "Processing record 181 | adre\n",
      "Processing record 182 | tuktoyaktuk\n",
      "Processing record 183 | sola\n",
      "Processing record 184 | nowy dwor gdanski\n",
      "Processing record 185 | tasiilaq\n",
      "Processing record 186 | vao\n",
      "Processing record 187 | ribeira grande\n",
      "Processing record 188 | ilulissat\n",
      "Processing record 189 | groningen\n",
      "Processing record 190 | gushikawa\n",
      "Processing record 191 | ponta delgada\n",
      "Processing record 192 | kloulklubed\n",
      "Processing record 193 | te anau\n",
      "Processing record 194 | wahpeton\n",
      "Processing record 195 | alta floresta\n",
      "Processing record 196 | zvishavane\n",
      "Processing record 197 | isiro\n",
      "Processing record 198 | tazmalt\n",
      "Processing record 199 | cabo san lucas\n",
      "Processing record 200 | moree\n",
      "Processing record 201 | nara\n",
      "Processing record 202 | tsihombe\n",
      "City not found. Skipping...\n",
      "Processing record 203 | marystown\n",
      "Processing record 204 | kaoma\n",
      "Processing record 205 | alofi\n",
      "Processing record 206 | codrington\n",
      "Processing record 207 | beloha\n",
      "Processing record 208 | cidreira\n",
      "Processing record 209 | marawi\n",
      "Processing record 210 | bajo baudo\n",
      "City not found. Skipping...\n",
      "Processing record 211 | beyneu\n",
      "Processing record 212 | padang\n",
      "Processing record 213 | amapa\n",
      "Processing record 214 | manggar\n",
      "Processing record 215 | gondanglegi\n",
      "Processing record 216 | zabol\n",
      "Processing record 217 | ponnani\n",
      "Processing record 218 | tiznit\n",
      "Processing record 219 | chiredzi\n",
      "Processing record 220 | coihaique\n",
      "Processing record 221 | nouadhibou\n",
      "Processing record 222 | gazojak\n",
      "Processing record 223 | hamilton\n",
      "Processing record 224 | jomalig\n",
      "City not found. Skipping...\n",
      "Processing record 225 | riyadh\n",
      "Processing record 226 | louisbourg\n",
      "City not found. Skipping...\n",
      "Processing record 227 | onega\n",
      "Processing record 228 | strzelin\n",
      "Processing record 229 | yurya\n",
      "City not found. Skipping...\n",
      "Processing record 230 | qasigiannguit\n",
      "Processing record 231 | najran\n",
      "Processing record 232 | lagoa\n"
     ]
    },
    {
     "name": "stdout",
     "output_type": "stream",
     "text": [
      "Processing record 233 | madimba\n",
      "Processing record 234 | de-kastri\n",
      "Processing record 235 | poum\n",
      "Processing record 236 | mecca\n",
      "Processing record 237 | qiongshan\n",
      "Processing record 238 | ciudad bolivar\n",
      "Processing record 239 | puro\n",
      "Processing record 240 | russell\n",
      "Processing record 241 | isangel\n",
      "Processing record 242 | los llanos de aridane\n",
      "Processing record 243 | mwinilunga\n",
      "Processing record 244 | bengkulu\n",
      "Processing record 245 | yulara\n",
      "Processing record 246 | ahipara\n",
      "Processing record 247 | vila velha\n",
      "Processing record 248 | korla\n",
      "Processing record 249 | sao felix do xingu\n",
      "Processing record 250 | mali idos\n",
      "City not found. Skipping...\n",
      "Processing record 251 | ushtobe\n",
      "Processing record 252 | marzuq\n",
      "Processing record 253 | carnarvon\n",
      "Processing record 254 | rocha\n",
      "Processing record 255 | varena\n",
      "Processing record 256 | ca mau\n",
      "Processing record 257 | pevek\n",
      "Processing record 258 | carndonagh\n",
      "Processing record 259 | deputatskiy\n",
      "Processing record 260 | magaria\n",
      "Processing record 261 | victoria\n",
      "Processing record 262 | caravelas\n",
      "Processing record 263 | abu zabad\n",
      "Processing record 264 | sao borja\n",
      "Processing record 265 | tual\n",
      "Processing record 266 | port hardy\n",
      "Processing record 267 | chapais\n",
      "Processing record 268 | avarua\n",
      "Processing record 269 | dolinsk\n",
      "Processing record 270 | luau\n",
      "Processing record 271 | halifax\n",
      "Processing record 272 | chuy\n",
      "Processing record 273 | nizhneyansk\n",
      "City not found. Skipping...\n",
      "Processing record 274 | nautla\n",
      "Processing record 275 | pemba\n",
      "Processing record 276 | niquelandia\n",
      "Processing record 277 | limanowa\n",
      "Processing record 278 | tabarqah\n",
      "City not found. Skipping...\n",
      "Processing record 279 | trairi\n",
      "Processing record 280 | de land\n",
      "Processing record 281 | selma\n",
      "Processing record 282 | kieta\n",
      "Processing record 283 | luderitz\n",
      "Processing record 284 | mitchell\n",
      "Processing record 285 | constitucion\n",
      "Processing record 286 | jalapa\n",
      "Processing record 287 | olafsvik\n",
      "Processing record 288 | bilma\n",
      "Processing record 289 | clyde river\n",
      "Processing record 290 | faya\n",
      "Processing record 291 | narsaq\n",
      "Processing record 292 | santa maria\n",
      "Processing record 293 | souillac\n",
      "Processing record 294 | umm durman\n",
      "City not found. Skipping...\n",
      "Processing record 295 | panjab\n",
      "Processing record 296 | dukat\n",
      "Processing record 297 | severodvinsk\n",
      "Processing record 298 | kumta\n",
      "Processing record 299 | lagoa vermelha\n",
      "Processing record 300 | gravelbourg\n",
      "Processing record 301 | batemans bay\n",
      "Processing record 302 | onguday\n",
      "Processing record 303 | pastos bons\n",
      "Processing record 304 | burns lake\n",
      "Processing record 305 | luwuk\n",
      "Processing record 306 | haines junction\n",
      "Processing record 307 | vila\n",
      "Processing record 308 | barentsburg\n",
      "City not found. Skipping...\n",
      "Processing record 309 | shimoda\n",
      "Processing record 310 | abu samrah\n",
      "Processing record 311 | ampanihy\n",
      "Processing record 312 | saint-leu\n",
      "Processing record 313 | mundo novo\n",
      "Processing record 314 | opuwo\n",
      "Processing record 315 | pacific grove\n",
      "Processing record 316 | parnamirim\n",
      "Processing record 317 | nemuro\n",
      "Processing record 318 | tianpeng\n",
      "Processing record 319 | garmsar\n",
      "Processing record 320 | ancud\n",
      "Processing record 321 | yumen\n",
      "Processing record 322 | qaqortoq\n",
      "Processing record 323 | tambura\n",
      "Processing record 324 | kropotkin\n",
      "Processing record 325 | burnie\n",
      "Processing record 326 | halalo\n",
      "City not found. Skipping...\n",
      "Processing record 327 | oktyabrskiy\n",
      "Processing record 328 | tabialan\n",
      "City not found. Skipping...\n",
      "Processing record 329 | sadovo\n",
      "Processing record 330 | pregassona\n",
      "Processing record 331 | kerema\n",
      "Processing record 332 | yako\n",
      "Processing record 333 | torbay\n",
      "Processing record 334 | bageshwar\n",
      "Processing record 335 | bryan\n",
      "Processing record 336 | labuan\n",
      "Processing record 337 | boden\n",
      "Processing record 338 | davila\n",
      "Processing record 339 | qeshm\n",
      "Processing record 340 | vaasa\n",
      "Processing record 341 | tuggurt\n",
      "City not found. Skipping...\n",
      "Processing record 342 | kahului\n",
      "Processing record 343 | kayerkan\n",
      "Processing record 344 | vestmanna\n",
      "Processing record 345 | bonfim\n",
      "Processing record 346 | malwan\n",
      "City not found. Skipping...\n",
      "Processing record 347 | nuuk\n",
      "Processing record 348 | wanaka\n",
      "Processing record 349 | okha\n",
      "Processing record 350 | kattivakkam\n",
      "Processing record 351 | lodwar\n",
      "Processing record 352 | puerto escondido\n",
      "Processing record 353 | ayagoz\n",
      "Processing record 354 | broken hill\n",
      "Processing record 355 | cururupu\n",
      "Processing record 356 | srednekolymsk\n",
      "Processing record 357 | kismayo\n",
      "Processing record 358 | sishui\n",
      "Processing record 359 | coquimbo\n",
      "Processing record 360 | katsuura\n",
      "Processing record 361 | vredendal\n",
      "Processing record 362 | genappe\n",
      "Processing record 363 | maldonado\n",
      "Processing record 364 | belyy yar\n",
      "Processing record 365 | loudi\n",
      "Processing record 366 | mocambique\n",
      "City not found. Skipping...\n",
      "Processing record 367 | hovd\n",
      "Processing record 368 | nuevo progreso\n",
      "Processing record 369 | quchan\n",
      "Processing record 370 | traiguen\n",
      "Processing record 371 | usinsk\n",
      "Processing record 372 | ketchikan\n",
      "Processing record 373 | kabwe\n",
      "Processing record 374 | abbeville\n",
      "Processing record 375 | nishihara\n",
      "Processing record 376 | waddan\n",
      "Processing record 377 | henzada\n",
      "City not found. Skipping...\n",
      "Processing record 378 | iskateley\n",
      "Processing record 379 | northam\n",
      "Processing record 380 | shenzhen\n",
      "Processing record 381 | vila do maio\n",
      "Processing record 382 | zhuhai\n",
      "Processing record 383 | vacha\n",
      "Processing record 384 | pirenopolis\n",
      "Processing record 385 | saint george\n",
      "Processing record 386 | saldanha\n",
      "Processing record 387 | brae\n",
      "Processing record 388 | nuqui\n",
      "Processing record 389 | matara\n",
      "Processing record 390 | suntar\n",
      "Processing record 391 | nevelsk\n",
      "Processing record 392 | qobustan\n",
      "Processing record 393 | mehamn\n",
      "Processing record 394 | bambous virieux\n",
      "Processing record 395 | phon thong\n",
      "Processing record 396 | ust-maya\n",
      "Processing record 397 | phan rang\n",
      "City not found. Skipping...\n",
      "Processing record 398 | calahorra\n",
      "Processing record 399 | sechura\n",
      "Processing record 400 | progress\n",
      "Processing record 401 | griffith\n",
      "Processing record 402 | lazaro cardenas\n",
      "Processing record 403 | ust-omchug\n",
      "Processing record 404 | saurimo\n",
      "Processing record 405 | suozhen\n",
      "Processing record 406 | aklavik\n",
      "Processing record 407 | yar-sale\n",
      "Processing record 408 | marcona\n",
      "City not found. Skipping...\n",
      "Processing record 409 | cap malheureux\n",
      "Processing record 410 | hlubocky\n",
      "Processing record 411 | port macquarie\n",
      "Processing record 412 | mayo\n",
      "Processing record 413 | sao filipe\n",
      "Processing record 414 | gazni\n",
      "City not found. Skipping...\n",
      "Processing record 415 | koryazhma\n",
      "Processing record 416 | vuktyl\n",
      "Processing record 417 | fortuna\n",
      "Processing record 418 | belleville\n",
      "Processing record 419 | masindi\n",
      "Processing record 420 | portland\n",
      "Processing record 421 | kui buri\n",
      "Processing record 422 | nynashamn\n",
      "Processing record 423 | salto\n",
      "Processing record 424 | plettenberg bay\n",
      "Processing record 425 | panama city\n",
      "Processing record 426 | roccastrada\n",
      "Processing record 427 | galanta\n",
      "Processing record 428 | cayenne\n",
      "Processing record 429 | bokspits\n",
      "City not found. Skipping...\n",
      "Processing record 430 | sokna\n",
      "Processing record 431 | yuzhnyy\n",
      "Processing record 432 | ipixuna\n",
      "Processing record 433 | inirida\n",
      "Processing record 434 | kaohsiung\n",
      "Processing record 435 | lasa\n",
      "Processing record 436 | severo-kurilsk\n",
      "Processing record 437 | saint-philippe\n",
      "Processing record 438 | hualmay\n",
      "Processing record 439 | seoul\n",
      "Processing record 440 | rotenburg\n",
      "Processing record 441 | marang\n",
      "Processing record 442 | heihe\n",
      "Processing record 443 | eenhana\n",
      "Processing record 444 | ola\n",
      "Processing record 445 | cordoba\n",
      "Processing record 446 | ada\n",
      "Processing record 447 | saraland\n",
      "Processing record 448 | the valley\n",
      "Processing record 449 | palabuhanratu\n",
      "City not found. Skipping...\n",
      "Processing record 450 | puerto narino\n",
      "Processing record 451 | broome\n",
      "Processing record 452 | teshie\n",
      "Processing record 453 | ponca city\n",
      "Processing record 454 | dustlik\n",
      "Processing record 455 | warrington\n",
      "Processing record 456 | takoradi\n",
      "Processing record 457 | sobolevo\n",
      "Processing record 458 | marmaris\n",
      "Processing record 459 | bilibino\n",
      "Processing record 460 | fort nelson\n",
      "Processing record 461 | tiksi\n",
      "Processing record 462 | esperance\n",
      "Processing record 463 | kompaniyivka\n",
      "Processing record 464 | lianzhou\n",
      "Processing record 465 | tommot\n",
      "Processing record 466 | xuddur\n",
      "Processing record 467 | bahir dar\n",
      "Processing record 468 | longyearbyen\n"
     ]
    },
    {
     "name": "stdout",
     "output_type": "stream",
     "text": [
      "Processing record 469 | kemijarvi\n",
      "Processing record 470 | gurgan\n",
      "City not found. Skipping...\n",
      "Processing record 471 | preobrazheniye\n",
      "Processing record 472 | monrovia\n",
      "Processing record 473 | novoselitskoye\n",
      "Processing record 474 | urumqi\n",
      "Processing record 475 | muisne\n",
      "Processing record 476 | smolensk\n",
      "Processing record 477 | beruwala\n",
      "Processing record 478 | lompoc\n",
      "Processing record 479 | toucheng\n",
      "Processing record 480 | erenhot\n",
      "Processing record 481 | hegang\n",
      "Processing record 482 | aguililla\n",
      "Processing record 483 | acapulco\n",
      "Processing record 484 | minas novas\n",
      "Processing record 485 | nome\n",
      "Processing record 486 | chengde\n",
      "Processing record 487 | manta\n",
      "Processing record 488 | rota\n",
      "Processing record 489 | kavaratti\n",
      "Processing record 490 | joshimath\n",
      "Processing record 491 | quarteira\n",
      "Processing record 492 | ornskoldsvik\n",
      "Processing record 493 | guarapari\n",
      "Processing record 494 | ahuimanu\n",
      "Processing record 495 | sawakin\n",
      "Processing record 496 | touros\n",
      "Processing record 497 | hirara\n",
      "Processing record 498 | gualaquiza\n",
      "Processing record 499 | portree\n",
      "Processing record 500 | ugoofaaru\n",
      "Processing record 501 | la baule-escoublac\n",
      "Processing record 502 | dao\n",
      "Processing record 503 | regen\n",
      "Processing record 504 | katha\n",
      "City not found. Skipping...\n",
      "Processing record 505 | morehead\n",
      "Processing record 506 | healdsburg\n",
      "Processing record 507 | eskil\n",
      "Processing record 508 | orocue\n",
      "Processing record 509 | taranagar\n",
      "Processing record 510 | samarai\n",
      "Processing record 511 | ostrovnoy\n",
      "Processing record 512 | estelle\n",
      "Processing record 513 | puerto ayacucho\n",
      "Processing record 514 | eureka\n",
      "Processing record 515 | soyo\n",
      "Processing record 516 | domoni\n",
      "Processing record 517 | kamenskoye\n",
      "City not found. Skipping...\n",
      "Processing record 518 | asyut\n",
      "Processing record 519 | vardo\n",
      "Processing record 520 | beringovskiy\n",
      "Processing record 521 | bonga\n",
      "Processing record 522 | taksimo\n",
      "Processing record 523 | dovolnoye\n",
      "Processing record 524 | lufilufi\n",
      "Processing record 525 | north bend\n",
      "Processing record 526 | wanning\n",
      "Processing record 527 | ligaya\n",
      "Processing record 528 | avera\n",
      "Processing record 529 | hue\n",
      "Processing record 530 | tindivanam\n",
      "Processing record 531 | sumbawa\n",
      "City not found. Skipping...\n",
      "Processing record 532 | roebourne\n",
      "Processing record 533 | jawhar\n",
      "Processing record 534 | paoua\n",
      "Processing record 535 | coffeyville\n",
      "Processing record 536 | attawapiskat\n",
      "City not found. Skipping...\n",
      "Processing record 537 | zheleznodorozhnyy\n",
      "Processing record 538 | srandakan\n",
      "Processing record 539 | kapoeta\n",
      "Processing record 540 | bowen\n",
      "Processing record 541 | port hedland\n",
      "Processing record 542 | boyolangu\n",
      "Processing record 543 | conceicao do araguaia\n",
      "Processing record 544 | chifeng\n",
      "Processing record 545 | cockburn town\n",
      "Processing record 546 | zelenoborskiy\n",
      "Processing record 547 | kendari\n",
      "Processing record 548 | saint-pierre\n",
      "Processing record 549 | xuchang\n",
      "Processing record 550 | lolua\n",
      "City not found. Skipping...\n",
      "Processing record 551 | camacha\n",
      "Processing record 552 | juifang\n",
      "City not found. Skipping...\n",
      "Processing record 553 | ajaccio\n",
      "Processing record 554 | shache\n",
      "Processing record 555 | atambua\n",
      "Processing record 556 | along\n",
      "Processing record 557 | pontianak\n",
      "Processing record 558 | taquarana\n",
      "Processing record 559 | eyl\n",
      "Processing record 560 | praia da vitoria\n",
      "Processing record 561 | yakovlevka\n",
      "Processing record 562 | bud\n",
      "Processing record 563 | egvekinot\n",
      "Processing record 564 | lata\n",
      "Processing record 565 | brandenburg\n",
      "Processing record 566 | gold coast\n",
      "Processing record 567 | laza\n",
      "Processing record 568 | bonavista\n",
      "Processing record 569 | buckeye\n",
      "Processing record 570 | arlit\n",
      "Processing record 571 | cvikov\n",
      "Processing record 572 | peniche\n",
      "Processing record 573 | akropong\n",
      "Processing record 574 | pedernales\n",
      "Processing record 575 | voznesenye\n",
      "Processing record 576 | hearst\n",
      "Processing record 577 | fairbanks\n",
      "Processing record 578 | flinders\n",
      "Processing record 579 | klaksvik\n",
      "Processing record 580 | zhaotong\n",
      "Processing record 581 | seydi\n",
      "Processing record 582 | pisco\n",
      "Processing record 583 | salinopolis\n",
      "Processing record 584 | tondano\n",
      "Processing record 585 | port antonio\n",
      "Processing record 586 | bambanglipuro\n",
      "Processing record 587 | kazalinsk\n",
      "City not found. Skipping...\n",
      "Processing record 588 | keti bandar\n",
      "Processing record 589 | mumford\n",
      "Processing record 590 | marsa matruh\n",
      "Processing record 591 | lexington\n",
      "Processing record 592 | anloga\n",
      "Processing record 593 | nguruka\n",
      "Processing record 594 | margate\n",
      "Processing record 595 | uvat\n",
      "Processing record 596 | the pas\n",
      "Processing record 597 | clovis\n",
      "Processing record 598 | grand-santi\n",
      "Processing record 599 | north battleford\n",
      "Processing record 600 | pochutla\n",
      "Processing record 601 | sevierville\n",
      "Processing record 602 | alanya\n",
      "Processing record 603 | ibra\n",
      "Processing record 604 | barbar\n",
      "City not found. Skipping...\n",
      "Processing record 605 | shelburne\n",
      "Processing record 606 | esil\n",
      "Processing record 607 | phalaborwa\n",
      "Processing record 608 | corinto\n",
      "Processing record 609 | cantagallo\n",
      "Processing record 610 | santa marta\n",
      "Processing record 611 | norheimsund\n",
      "Processing record 612 | felanitx\n",
      "Processing record 613 | rockport\n",
      "Processing record 614 | khandyga\n",
      "Processing record 615 | axim\n",
      "Processing record 616 | kudahuvadhoo\n",
      "Processing record 617 | vaitupu\n",
      "City not found. Skipping...\n",
      "Processing record 618 | vallenar\n",
      "Processing record 619 | palaiokhora\n",
      "City not found. Skipping...\n",
      "Processing record 620 | saleaula\n",
      "City not found. Skipping...\n",
      "Processing record 621 | talnakh\n",
      "Processing record 622 | ngukurr\n",
      "City not found. Skipping...\n",
      "Processing record 623 | carballo\n",
      "Processing record 624 | champerico\n",
      "Processing record 625 | andenes\n",
      "Processing record 626 | guisa\n",
      "Processing record 627 | husavik\n",
      "Processing record 628 | cedar city\n",
      "Processing record 629 | voh\n",
      "Processing record 630 | ixtapa\n",
      "Processing record 631 | pilar\n",
      "Processing record 632 | hobyo\n",
      "Processing record 633 | jacareacanga\n",
      "Processing record 634 | dwarka\n",
      "Processing record 635 | cavarzere\n",
      "Processing record 636 | darnah\n",
      "Processing record 637 | gaimersheim\n",
      "Processing record 638 | sao joao da barra\n"
     ]
    }
   ],
   "source": [
    "#set static parameter for api key\n",
    "params={\n",
    "    \"appid\": weather_api_key\n",
    "}\n",
    "\n",
    "base_url = \"http://api.openweathermap.org/data/2.5/weather?\"\n",
    "#loop to loop through the city parameter and add Lat,Lng,MaxTemp,Humidity, cloudiness,windspeed,country and date\n",
    "for index, row in cities_df.iterrows():\n",
    "    city = row.City\n",
    "        \n",
    "    params[\"q\"] = city\n",
    "    \n",
    "    cities_lat_lng = requests.get(base_url,params).json()\n",
    "    print(f\"Processing record {index} | {city}\")\n",
    "    try:\n",
    "        cities_df.loc[index,'Lat'] = cities_lat_lng['coord']['lat']\n",
    "        cities_df.loc[index,'Lng'] = cities_lat_lng['coord']['lon']\n",
    "        cities_df.loc[index,'Max Temp'] = cities_lat_lng['main']['temp_max']\n",
    "        cities_df.loc[index,'Humidity'] = cities_lat_lng['main']['humidity']\n",
    "        cities_df.loc[index,'Cloudiness'] = cities_lat_lng['clouds']['all']\n",
    "        cities_df.loc[index,'Wind Speed'] = cities_lat_lng['wind']['speed']\n",
    "        cities_df.loc[index,'Country'] = cities_lat_lng['sys']['country']\n",
    "        cities_df.loc[index,'Date'] = cities_lat_lng['dt']\n",
    "    #also for cities not found in the open weather to be skipped and show progress\n",
    "    except (KeyError, SyntaxError):\n",
    "           print(\"City not found. Skipping...\")"
   ]
  },
  {
   "cell_type": "markdown",
   "metadata": {},
   "source": [
    "### Convert Raw Data to DataFrame\n",
    "* Export the city data into a .csv.\n",
    "* Display the DataFrame"
   ]
  },
  {
   "cell_type": "code",
   "execution_count": 10,
   "metadata": {},
   "outputs": [],
   "source": [
    "#saves output file for Weather Cities Output\n",
    "cities_df.to_csv(\"../output_data/weather_cities_output.csv\")"
   ]
  },
  {
   "cell_type": "code",
   "execution_count": 11,
   "metadata": {},
   "outputs": [
    {
     "data": {
      "text/html": [
       "<div>\n",
       "<style scoped>\n",
       "    .dataframe tbody tr th:only-of-type {\n",
       "        vertical-align: middle;\n",
       "    }\n",
       "\n",
       "    .dataframe tbody tr th {\n",
       "        vertical-align: top;\n",
       "    }\n",
       "\n",
       "    .dataframe thead th {\n",
       "        text-align: right;\n",
       "    }\n",
       "</style>\n",
       "<table border=\"1\" class=\"dataframe\">\n",
       "  <thead>\n",
       "    <tr style=\"text-align: right;\">\n",
       "      <th></th>\n",
       "      <th>City</th>\n",
       "      <th>Lat</th>\n",
       "      <th>Lng</th>\n",
       "      <th>Max Temp</th>\n",
       "      <th>Humidity</th>\n",
       "      <th>Cloudiness</th>\n",
       "      <th>Wind Speed</th>\n",
       "      <th>Country</th>\n",
       "      <th>Date</th>\n",
       "    </tr>\n",
       "  </thead>\n",
       "  <tbody>\n",
       "    <tr>\n",
       "      <th>0</th>\n",
       "      <td>zhezkazgan</td>\n",
       "      <td>47.8043</td>\n",
       "      <td>67.7144</td>\n",
       "      <td>302.28</td>\n",
       "      <td>24</td>\n",
       "      <td>10</td>\n",
       "      <td>4.91</td>\n",
       "      <td>KZ</td>\n",
       "      <td>1627929507</td>\n",
       "    </tr>\n",
       "    <tr>\n",
       "      <th>1</th>\n",
       "      <td>lebu</td>\n",
       "      <td>-37.6167</td>\n",
       "      <td>-73.65</td>\n",
       "      <td>286.32</td>\n",
       "      <td>72</td>\n",
       "      <td>46</td>\n",
       "      <td>9.06</td>\n",
       "      <td>CL</td>\n",
       "      <td>1627929457</td>\n",
       "    </tr>\n",
       "    <tr>\n",
       "      <th>2</th>\n",
       "      <td>taolanaro</td>\n",
       "      <td></td>\n",
       "      <td></td>\n",
       "      <td></td>\n",
       "      <td></td>\n",
       "      <td></td>\n",
       "      <td></td>\n",
       "      <td></td>\n",
       "      <td></td>\n",
       "    </tr>\n",
       "    <tr>\n",
       "      <th>3</th>\n",
       "      <td>upernavik</td>\n",
       "      <td>72.7868</td>\n",
       "      <td>-56.1549</td>\n",
       "      <td>280.94</td>\n",
       "      <td>69</td>\n",
       "      <td>10</td>\n",
       "      <td>0.58</td>\n",
       "      <td>GL</td>\n",
       "      <td>1627929479</td>\n",
       "    </tr>\n",
       "    <tr>\n",
       "      <th>4</th>\n",
       "      <td>bossier city</td>\n",
       "      <td>32.516</td>\n",
       "      <td>-93.7321</td>\n",
       "      <td>301.47</td>\n",
       "      <td>80</td>\n",
       "      <td>75</td>\n",
       "      <td>0</td>\n",
       "      <td>US</td>\n",
       "      <td>1627929288</td>\n",
       "    </tr>\n",
       "  </tbody>\n",
       "</table>\n",
       "</div>"
      ],
      "text/plain": [
       "           City      Lat      Lng Max Temp Humidity Cloudiness Wind Speed  \\\n",
       "0    zhezkazgan  47.8043  67.7144   302.28       24         10       4.91   \n",
       "1          lebu -37.6167   -73.65   286.32       72         46       9.06   \n",
       "2     taolanaro                                                             \n",
       "3     upernavik  72.7868 -56.1549   280.94       69         10       0.58   \n",
       "4  bossier city   32.516 -93.7321   301.47       80         75          0   \n",
       "\n",
       "  Country        Date  \n",
       "0      KZ  1627929507  \n",
       "1      CL  1627929457  \n",
       "2                      \n",
       "3      GL  1627929479  \n",
       "4      US  1627929288  "
      ]
     },
     "execution_count": 11,
     "metadata": {},
     "output_type": "execute_result"
    }
   ],
   "source": [
    "#displaying dataframe to ensure proper data was catpured\n",
    "cities_df.head()"
   ]
  },
  {
   "cell_type": "code",
   "execution_count": 13,
   "metadata": {},
   "outputs": [
    {
     "data": {
      "text/plain": [
       "100.0"
      ]
     },
     "execution_count": 13,
     "metadata": {},
     "output_type": "execute_result"
    }
   ],
   "source": [
    "#checking max humidity for next step\n",
    "cities_df[\"Humidity\"] = pd.to_numeric(cities_df[\"Humidity\"], downcast=\"float\")\n",
    "humidity_max = cities_df['Humidity'].max()\n",
    "humidity_max  "
   ]
  },
  {
   "cell_type": "markdown",
   "metadata": {},
   "source": [
    "## Inspect the data and remove the cities where the humidity > 100%.\n",
    "----\n",
    "Skip this step if there are no cities that have humidity > 100%. "
   ]
  },
  {
   "cell_type": "code",
   "execution_count": null,
   "metadata": {},
   "outputs": [],
   "source": [
    "#  Get the indices of cities that have humidity over 100%.\n"
   ]
  },
  {
   "cell_type": "code",
   "execution_count": null,
   "metadata": {},
   "outputs": [],
   "source": [
    "# Make a new DataFrame equal to the city data to drop all humidity outliers by index.\n",
    "# Passing \"inplace=False\" will make a copy of the city_data DataFrame, which we call \"clean_city_data\".\n",
    "#section skipped per instruction"
   ]
  },
  {
   "cell_type": "code",
   "execution_count": 14,
   "metadata": {},
   "outputs": [
    {
     "data": {
      "text/plain": [
       "City           object\n",
       "Lat           float32\n",
       "Lng            object\n",
       "Max Temp      float32\n",
       "Humidity      float32\n",
       "Cloudiness    float32\n",
       "Wind Speed    float32\n",
       "Country        object\n",
       "Date           object\n",
       "dtype: object"
      ]
     },
     "execution_count": 14,
     "metadata": {},
     "output_type": "execute_result"
    }
   ],
   "source": [
    "#formating columns from object to float for plotting\n",
    "cities_df[\"Lat\"] = pd.to_numeric(cities_df[\"Lat\"], downcast=\"float\")\n",
    "cities_df[\"Max Temp\"] = pd.to_numeric(cities_df[\"Max Temp\"], downcast=\"float\")\n",
    "cities_df[\"Cloudiness\"] = pd.to_numeric(cities_df[\"Cloudiness\"], downcast=\"float\")\n",
    "cities_df[\"Wind Speed\"] = pd.to_numeric(cities_df[\"Wind Speed\"], downcast=\"float\")\n",
    "cities_df.dtypes"
   ]
  },
  {
   "cell_type": "markdown",
   "metadata": {},
   "source": [
    "## Plotting the Data\n",
    "* Use proper labeling of the plots using plot titles (including date of analysis) and axes labels.\n",
    "* Save the plotted figures as .pngs."
   ]
  },
  {
   "cell_type": "markdown",
   "metadata": {},
   "source": [
    "## Latitude vs. Temperature Plot"
   ]
  },
  {
   "cell_type": "code",
   "execution_count": 17,
   "metadata": {
    "scrolled": true
   },
   "outputs": [
    {
     "data": {
      "image/png": "[encoded data removed]",
      "text/plain": [
       "<Figure size 432x288 with 1 Axes>"
      ]
     },
     "metadata": {
      "needs_background": "light"
     },
     "output_type": "display_data"
    },
    {
     "data": {
      "text/plain": [
       "<Figure size 432x288 with 0 Axes>"
      ]
     },
     "metadata": {},
     "output_type": "display_data"
    }
   ],
   "source": [
    "# Plot Latitude versus Temperature on a scatterplot\n",
    "latitude = cities_df.Lat\n",
    "temperature = cities_df['Max Temp']\n",
    "plt.scatter(latitude,temperature)\n",
    "plt.xlabel(\"Latitude\")\n",
    "plt.ylabel(\"Max Temperature (F)\")\n",
    "plt.title(\"City Latitude vs Max Temperature (8/2/2021)\")\n",
    "plt.show()\n",
    "plt.savefig('../output_data/lat_v_temp.png')"
   ]
  },
  {
   "cell_type": "markdown",
   "metadata": {},
   "source": [
    "## Latitude vs. Humidity Plot"
   ]
  },
  {
   "cell_type": "code",
   "execution_count": 18,
   "metadata": {},
   "outputs": [
    {
     "data": {
      "image/png": "[encoded data removed]",
      "text/plain": [
       "<Figure size 432x288 with 1 Axes>"
      ]
     },
     "metadata": {
      "needs_background": "light"
     },
     "output_type": "display_data"
    },
    {
     "data": {
      "text/plain": [
       "<Figure size 432x288 with 0 Axes>"
      ]
     },
     "metadata": {},
     "output_type": "display_data"
    }
   ],
   "source": [
    "# Plot Latitude versus Humidity on a scatterplot\n",
    "latitude = cities_df.Lat\n",
    "humidity = cities_df['Humidity']\n",
    "plt.scatter(latitude,humidity)\n",
    "plt.xlabel(\"Latitude\")\n",
    "plt.ylabel(\"Humidity (%)\")\n",
    "plt.title(\"City Latitude vs Humidity (8/2/2021)\")\n",
    "plt.show()\n",
    "plt.savefig('../output_data/lat_v_humd.png')"
   ]
  },
  {
   "cell_type": "markdown",
   "metadata": {},
   "source": [
    "## Latitude vs. Cloudiness Plot"
   ]
  },
  {
   "cell_type": "code",
   "execution_count": 19,
   "metadata": {},
   "outputs": [
    {
     "data": {
      "image/png": "[encoded data removed]",
      "text/plain": [
       "<Figure size 432x288 with 1 Axes>"
      ]
     },
     "metadata": {
      "needs_background": "light"
     },
     "output_type": "display_data"
    },
    {
     "data": {
      "text/plain": [
       "<Figure size 432x288 with 0 Axes>"
      ]
     },
     "metadata": {},
     "output_type": "display_data"
    }
   ],
   "source": [
    "# Plot Latitude versus Cloudiness on a scatterplot\n",
    "latitude = cities_df.Lat\n",
    "cloudiness = cities_df['Cloudiness']\n",
    "plt.scatter(latitude,cloudiness)\n",
    "plt.xlabel(\"Latitude\")\n",
    "plt.ylabel(\"Cloudiness (%)\")\n",
    "plt.title(\"City Latitude vs Cloudiness (8/2/2021)\")\n",
    "plt.show()\n",
    "plt.savefig('../output_data/lat_v_cloud.png')"
   ]
  },
  {
   "cell_type": "markdown",
   "metadata": {},
   "source": [
    "## Latitude vs. Wind Speed Plot"
   ]
  },
  {
   "cell_type": "code",
   "execution_count": 20,
   "metadata": {},
   "outputs": [
    {
     "data": {
      "image/png": "[encoded data removed]",
      "text/plain": [
       "<Figure size 432x288 with 1 Axes>"
      ]
     },
     "metadata": {
      "needs_background": "light"
     },
     "output_type": "display_data"
    },
    {
     "data": {
      "text/plain": [
       "<Figure size 432x288 with 0 Axes>"
      ]
     },
     "metadata": {},
     "output_type": "display_data"
    }
   ],
   "source": [
    "# Plot Latitude versus Wind Speed on a scatterplot\n",
    "latitude = cities_df.Lat\n",
    "wind_speed = cities_df['Wind Speed']\n",
    "plt.scatter(latitude,wind_speed)\n",
    "plt.xlabel(\"Latitude\")\n",
    "plt.ylabel(\"Wind Speed (mph)\")\n",
    "plt.title(\"City Latitude vs Wind Speed (8/2/2021)\")\n",
    "plt.show()\n",
    "plt.savefig('../output_data/lat_v_windspeed.png')"
   ]
  },
  {
   "cell_type": "markdown",
   "metadata": {},
   "source": [
    "## Linear Regression"
   ]
  },
  {
   "cell_type": "code",
   "execution_count": 22,
   "metadata": {},
   "outputs": [],
   "source": [
    "#sorting main dataframe into northern and southern dataframes\n",
    "northern_latitude_df = cities_df.loc[(cities_df['Lat'] > 0)]\n",
    "southern_latitude_df = cities_df.loc[(cities_df['Lat'] < 0)]\n"
   ]
  },
  {
   "cell_type": "markdown",
   "metadata": {},
   "source": [
    "####  Northern Hemisphere - Max Temp vs. Latitude Linear Regression"
   ]
  },
  {
   "cell_type": "code",
   "execution_count": 23,
   "metadata": {},
   "outputs": [
    {
     "name": "stdout",
     "output_type": "stream",
     "text": [
      "The r-squared is: 0.4305416167605882\n"
     ]
    },
    {
     "data": {
      "image/png": "[encoded data removed]",
      "text/plain": [
       "<Figure size 432x288 with 1 Axes>"
      ]
     },
     "metadata": {
      "needs_background": "light"
     },
     "output_type": "display_data"
    },
    {
     "data": {
      "text/plain": [
       "<Figure size 432x288 with 0 Axes>"
      ]
     },
     "metadata": {},
     "output_type": "display_data"
    }
   ],
   "source": [
    "# Northern Hemisphere - Max Temp vs Latitude Linear Regression\n",
    "\n",
    "x_values = northern_latitude_df['Lat']\n",
    "y_values = northern_latitude_df['Max Temp']\n",
    "(slope, intercept, rvalue, pvalue, stderr) = linregress(x_values, y_values)\n",
    "regress_values = x_values * slope + intercept\n",
    "line_eq = \"y = \" + str(round(slope,2)) + \"x + \" + str(round(intercept,2))\n",
    "plt.scatter(x_values,y_values)\n",
    "plt.plot(x_values,regress_values,\"r-\")\n",
    "plt.annotate(line_eq,(3,275),fontsize=15,color=\"red\")\n",
    "plt.xlabel('Latitude')\n",
    "plt.ylabel('Max Temp')\n",
    "print(f\"The r-squared is: {rvalue**2}\")\n",
    "plt.title('Northern Hemisphere - Max Temp vs. Latitude')\n",
    "plt.show()\n",
    "plt.savefig('../output_data/NH_Temp_Lat.png')"
   ]
  },
  {
   "cell_type": "markdown",
   "metadata": {},
   "source": [
    "####  Southern Hemisphere - Max Temp vs. Latitude Linear Regression"
   ]
  },
  {
   "cell_type": "code",
   "execution_count": 24,
   "metadata": {},
   "outputs": [
    {
     "name": "stdout",
     "output_type": "stream",
     "text": [
      "The r-squared is: 0.6696493595056526\n"
     ]
    },
    {
     "data": {
      "image/png": "[encoded data removed]",
      "text/plain": [
       "<Figure size 432x288 with 1 Axes>"
      ]
     },
     "metadata": {
      "needs_background": "light"
     },
     "output_type": "display_data"
    },
    {
     "data": {
      "text/plain": [
       "<Figure size 432x288 with 0 Axes>"
      ]
     },
     "metadata": {},
     "output_type": "display_data"
    }
   ],
   "source": [
    "# Southern Hemisphere - Max Temp vs Latitude Linear Regression\n",
    "\n",
    "x_values = southern_latitude_df['Lat']\n",
    "y_values = southern_latitude_df['Max Temp']\n",
    "(slope, intercept, rvalue, pvalue, stderr) = linregress(x_values, y_values)\n",
    "regress_values = x_values * slope + intercept\n",
    "line_eq = \"y = \" + str(round(slope,2)) + \"x + \" + str(round(intercept,2))\n",
    "plt.scatter(x_values,y_values)\n",
    "plt.plot(x_values,regress_values,\"r-\")\n",
    "plt.annotate(line_eq,(-50,305),fontsize=15,color=\"red\")\n",
    "plt.xlabel('Latitude')\n",
    "plt.ylabel('Max Temp')\n",
    "print(f\"The r-squared is: {rvalue**2}\")\n",
    "plt.title('Southern Hemisphere - Max Temp vs. Latitude')\n",
    "plt.show()\n",
    "plt.savefig('../output_data/SH_Temp_Lat.png')"
   ]
  },
  {
   "cell_type": "markdown",
   "metadata": {},
   "source": [
    "####  Northern Hemisphere - Humidity (%) vs. Latitude Linear Regression"
   ]
  },
  {
   "cell_type": "code",
   "execution_count": 25,
   "metadata": {},
   "outputs": [
    {
     "name": "stdout",
     "output_type": "stream",
     "text": [
      "The r-squared is: 0.00016259471518334788\n"
     ]
    },
    {
     "data": {
      "image/png": "[encoded data removed]",
      "text/plain": [
       "<Figure size 432x288 with 1 Axes>"
      ]
     },
     "metadata": {
      "needs_background": "light"
     },
     "output_type": "display_data"
    },
    {
     "data": {
      "text/plain": [
       "<Figure size 432x288 with 0 Axes>"
      ]
     },
     "metadata": {},
     "output_type": "display_data"
    }
   ],
   "source": [
    "# Northern Hemisphere - Humidity (%) vs Latitude Linear Regression\n",
    "\n",
    "x_values = northern_latitude_df['Lat']\n",
    "y_values = northern_latitude_df['Humidity']\n",
    "(slope, intercept, rvalue, pvalue, stderr) = linregress(x_values, y_values)\n",
    "regress_values = x_values * slope + intercept\n",
    "line_eq = \"y = \" + str(round(slope,2)) + \"x + \" + str(round(intercept,2))\n",
    "plt.scatter(x_values,y_values)\n",
    "plt.plot(x_values,regress_values,\"r-\")\n",
    "plt.annotate(line_eq,(38,10),fontsize=15,color=\"red\")\n",
    "plt.xlabel('Latitude')\n",
    "plt.ylabel('Humidity (%)')\n",
    "print(f\"The r-squared is: {rvalue**2}\")\n",
    "plt.title('Northern Hemisphere - Humidity (%) vs. Latitude')\n",
    "plt.show()\n",
    "plt.savefig('../output_data/NH_Humd_Lat.png')"
   ]
  },
  {
   "cell_type": "markdown",
   "metadata": {},
   "source": [
    "####  Southern Hemisphere - Humidity (%) vs. Latitude Linear Regression"
   ]
  },
  {
   "cell_type": "code",
   "execution_count": 26,
   "metadata": {},
   "outputs": [
    {
     "name": "stdout",
     "output_type": "stream",
     "text": [
      "The r-squared is: 0.007354585176480798\n"
     ]
    },
    {
     "data": {
      "image/png": "[encoded data removed]",
      "text/plain": [
       "<Figure size 432x288 with 1 Axes>"
      ]
     },
     "metadata": {
      "needs_background": "light"
     },
     "output_type": "display_data"
    },
    {
     "data": {
      "text/plain": [
       "<Figure size 432x288 with 0 Axes>"
      ]
     },
     "metadata": {},
     "output_type": "display_data"
    }
   ],
   "source": [
    "# Southern Hemisphere - Humidity (%) vs Latitude Linear Regression\n",
    "\n",
    "x_values = southern_latitude_df['Lat']\n",
    "y_values = southern_latitude_df['Humidity']\n",
    "(slope, intercept, rvalue, pvalue, stderr) = linregress(x_values, y_values)\n",
    "regress_values = x_values * slope + intercept\n",
    "line_eq = \"y = \" + str(round(slope,2)) + \"x + \" + str(round(intercept,2))\n",
    "plt.scatter(x_values,y_values)\n",
    "plt.plot(x_values,regress_values,\"r-\")\n",
    "plt.annotate(line_eq,(-50,15),fontsize=15,color=\"red\")\n",
    "plt.xlabel('Latitude')\n",
    "plt.ylabel('Humidity (%)')\n",
    "print(f\"The r-squared is: {rvalue**2}\")\n",
    "plt.title('Southern Hemisphere - Humidity (%) vs. Latitude')\n",
    "plt.show()\n",
    "plt.savefig('../output_data/SH_Humd_Lat.png')\n"
   ]
  },
  {
   "cell_type": "markdown",
   "metadata": {},
   "source": [
    "####  Northern Hemisphere - Cloudiness (%) vs. Latitude Linear Regression"
   ]
  },
  {
   "cell_type": "code",
   "execution_count": 27,
   "metadata": {},
   "outputs": [
    {
     "name": "stdout",
     "output_type": "stream",
     "text": [
      "The r-squared is: 0.008387591626871442\n"
     ]
    },
    {
     "data": {
      "image/png": "[encoded data removed]",
      "text/plain": [
       "<Figure size 432x288 with 1 Axes>"
      ]
     },
     "metadata": {
      "needs_background": "light"
     },
     "output_type": "display_data"
    },
    {
     "data": {
      "text/plain": [
       "<Figure size 432x288 with 0 Axes>"
      ]
     },
     "metadata": {},
     "output_type": "display_data"
    }
   ],
   "source": [
    "# Northern Hemisphere - Cloudiness (%) vs Latitude Linear Regression\n",
    "\n",
    "x_values = northern_latitude_df['Lat']\n",
    "y_values = northern_latitude_df['Cloudiness']\n",
    "(slope, intercept, rvalue, pvalue, stderr) = linregress(x_values, y_values)\n",
    "regress_values = x_values * slope + intercept\n",
    "line_eq = \"y = \" + str(round(slope,2)) + \"x + \" + str(round(intercept,2))\n",
    "plt.scatter(x_values,y_values)\n",
    "plt.plot(x_values,regress_values,\"r-\")\n",
    "plt.annotate(line_eq,(38,25),fontsize=15,color=\"red\")\n",
    "plt.xlabel('Latitude')\n",
    "plt.ylabel('Cloudiness (%)')\n",
    "print(f\"The r-squared is: {rvalue**2}\")\n",
    "plt.title('Northern Hemisphere - Cloudiness (%) vs. Latitude')\n",
    "plt.show()\n",
    "plt.savefig('../output_data/NH_Cloud_Lat.png')"
   ]
  },
  {
   "cell_type": "markdown",
   "metadata": {},
   "source": [
    "####  Southern Hemisphere - Cloudiness (%) vs. Latitude Linear Regression"
   ]
  },
  {
   "cell_type": "code",
   "execution_count": 28,
   "metadata": {},
   "outputs": [
    {
     "name": "stdout",
     "output_type": "stream",
     "text": [
      "The r-squared is: 4.729874834188838e-05\n"
     ]
    },
    {
     "data": {
      "image/png": "[encoded data removed]",
      "text/plain": [
       "<Figure size 432x288 with 1 Axes>"
      ]
     },
     "metadata": {
      "needs_background": "light"
     },
     "output_type": "display_data"
    },
    {
     "data": {
      "text/plain": [
       "<Figure size 432x288 with 0 Axes>"
      ]
     },
     "metadata": {},
     "output_type": "display_data"
    }
   ],
   "source": [
    "# Southern Hemisphere - Cloudiness (%) vs Latitude Linear Regression\n",
    "\n",
    "x_values = southern_latitude_df['Lat']\n",
    "y_values = southern_latitude_df['Cloudiness']\n",
    "(slope, intercept, rvalue, pvalue, stderr) = linregress(x_values, y_values)\n",
    "regress_values = x_values * slope + intercept\n",
    "line_eq = \"y = \" + str(round(slope,2)) + \"x + \" + str(round(intercept,2))\n",
    "plt.scatter(x_values,y_values)\n",
    "plt.plot(x_values,regress_values,\"r-\")\n",
    "plt.annotate(line_eq,(-50,15),fontsize=15,color=\"red\")\n",
    "plt.xlabel('Latitude')\n",
    "plt.ylabel('Cloudiness (%)')\n",
    "print(f\"The r-squared is: {rvalue**2}\")\n",
    "plt.title('Southern Hemisphere - Cloudiness (%) vs. Latitude')\n",
    "plt.show()\n",
    "plt.savefig('../output_data/SH_Cloud_Lat.png')"
   ]
  },
  {
   "cell_type": "markdown",
   "metadata": {},
   "source": [
    "####  Northern Hemisphere - Wind Speed (mph) vs. Latitude Linear Regression"
   ]
  },
  {
   "cell_type": "code",
   "execution_count": 29,
   "metadata": {},
   "outputs": [
    {
     "name": "stdout",
     "output_type": "stream",
     "text": [
      "The r-squared is: 0.005959940283363699\n"
     ]
    },
    {
     "data": {
      "image/png": "[encoded data removed]",
      "text/plain": [
       "<Figure size 432x288 with 1 Axes>"
      ]
     },
     "metadata": {
      "needs_background": "light"
     },
     "output_type": "display_data"
    },
    {
     "data": {
      "text/plain": [
       "<Figure size 432x288 with 0 Axes>"
      ]
     },
     "metadata": {},
     "output_type": "display_data"
    }
   ],
   "source": [
    "# Northern Hemisphere - Wind Speed (mph) vs Latitude Linear Regression\n",
    "\n",
    "x_values = northern_latitude_df['Lat']\n",
    "y_values = northern_latitude_df['Wind Speed']\n",
    "(slope, intercept, rvalue, pvalue, stderr) = linregress(x_values, y_values)\n",
    "regress_values = x_values * slope + intercept\n",
    "line_eq = \"y = \" + str(round(slope,2)) + \"x + \" + str(round(intercept,2))\n",
    "plt.scatter(x_values,y_values)\n",
    "plt.plot(x_values,regress_values,\"r-\")\n",
    "plt.annotate(line_eq,(5,12),fontsize=15,color=\"red\")\n",
    "plt.xlabel('Latitude')\n",
    "plt.ylabel('Wind Speed (mph)')\n",
    "print(f\"The r-squared is: {rvalue**2}\")\n",
    "plt.title('Northern Hemisphere - Wind Speed (mph) vs. Latitude')\n",
    "plt.show()\n",
    "plt.savefig('../output_data/NH_Windspeed_Lat.png')\n"
   ]
  },
  {
   "cell_type": "markdown",
   "metadata": {},
   "source": [
    "####  Southern Hemisphere - Wind Speed (mph) vs. Latitude Linear Regression"
   ]
  },
  {
   "cell_type": "code",
   "execution_count": 30,
   "metadata": {},
   "outputs": [
    {
     "name": "stdout",
     "output_type": "stream",
     "text": [
      "The r-squared is: 0.004093664035954031\n"
     ]
    },
    {
     "data": {
      "image/png": "[encoded data removed]",
      "text/plain": [
       "<Figure size 432x288 with 1 Axes>"
      ]
     },
     "metadata": {
      "needs_background": "light"
     },
     "output_type": "display_data"
    },
    {
     "data": {
      "text/plain": [
       "<Figure size 432x288 with 0 Axes>"
      ]
     },
     "metadata": {},
     "output_type": "display_data"
    }
   ],
   "source": [
    "# Southern Hemisphere - Wind Speed vs Latitude Linear Regression\n",
    "\n",
    "x_values = southern_latitude_df['Lat']\n",
    "y_values = southern_latitude_df['Wind Speed']\n",
    "(slope, intercept, rvalue, pvalue, stderr) = linregress(x_values, y_values)\n",
    "regress_values = x_values * slope + intercept\n",
    "line_eq = \"y = \" + str(round(slope,2)) + \"x + \" + str(round(intercept,2))\n",
    "plt.scatter(x_values,y_values)\n",
    "plt.plot(x_values,regress_values,\"r-\")\n",
    "plt.annotate(line_eq,(-50,12),fontsize=15,color=\"red\")\n",
    "plt.xlabel('Latitude')\n",
    "plt.ylabel('Wind Speed (mph)')\n",
    "print(f\"The r-squared is: {rvalue**2}\")\n",
    "plt.title('Southern Hemisphere - Wind Speed (mph) vs. Latitude')\n",
    "plt.show()\n",
    "plt.savefig('../output_data/SH_windspeed_Lat.png')"
   ]
  },
  {
   "cell_type": "code",
   "execution_count": null,
   "metadata": {},
   "outputs": [],
   "source": []
  }
 ],
 "metadata": {
  "anaconda-cloud": {},
  "kernel_info": {
   "name": "python3"
  },
  "kernelspec": {
   "display_name": "Python 3",
   "language": "python",
   "name": "python3"
  },
  "language_info": {
   "codemirror_mode": {
    "name": "ipython",
    "version": 3
   },
   "file_extension": ".py",
   "mimetype": "text/x-python",
   "name": "python",
   "nbconvert_exporter": "python",
   "pygments_lexer": "ipython3",
   "version": "3.8.8"
  },
  "latex_envs": {
   "LaTeX_envs_menu_present": true,
   "autoclose": false,
   "autocomplete": true,
   "bibliofile": "biblio.bib",
   "cite_by": "apalike",
   "current_citInitial": 1,
   "eqLabelWithNumbers": true,
   "eqNumInitial": 1,
   "hotkeys": {
    "equation": "Ctrl-E",
    "itemize": "Ctrl-I"
   },
   "labels_anchors": false,
   "latex_user_defs": false,
   "report_style_numbering": false,
   "user_envs_cfg": false
  },
  "nteract": {
   "version": "0.12.3"
  }
 },
 "nbformat": 4,
 "nbformat_minor": 2
}
