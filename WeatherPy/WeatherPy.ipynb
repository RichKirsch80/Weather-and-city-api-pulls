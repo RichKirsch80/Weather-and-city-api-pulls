{
 "cells": [
  {
   "cell_type": "markdown",
   "metadata": {},
   "source": [
    "# WeatherPy\n",
    "----\n",
    "\n",
    "#### Note\n",
    "* Instructions have been included for each segment. You do not have to follow them exactly, but they are included to help you think through the steps."
   ]
  },
  {
   "cell_type": "code",
   "execution_count": null,
   "metadata": {
    "scrolled": true
   },
   "outputs": [],
   "source": []
  },
  {
   "cell_type": "code",
   "execution_count": 2,
   "metadata": {
    "scrolled": true
   },
   "outputs": [],
   "source": [
    "# Dependencies and Setup\n",
    "import matplotlib.pyplot as plt\n",
    "import pandas as pd\n",
    "import numpy as np\n",
    "import requests\n",
    "import time\n",
    "from scipy.stats import linregress\n",
    "from pprint import pprint\n",
    "\n",
    "# Import API key\n",
    "from api_keys import weather_api_key\n",
    "\n",
    "# Incorporated citipy to determine city based on latitude and longitude\n",
    "from citipy import citipy\n",
    "\n",
    "# Output File (CSV)\n",
    "output_data_file = \"output_data/cities.csv\"\n",
    "\n",
    "# Range of latitudes and longitudes\n",
    "lat_range = (-90, 90)\n",
    "lng_range = (-180, 180)"
   ]
  },
  {
   "cell_type": "markdown",
   "metadata": {},
   "source": [
    "## Generate Cities List"
   ]
  },
  {
   "cell_type": "code",
   "execution_count": 3,
   "metadata": {},
   "outputs": [
    {
     "data": {
      "text/plain": [
       "613"
      ]
     },
     "execution_count": 3,
     "metadata": {},
     "output_type": "execute_result"
    }
   ],
   "source": [
    "# List for holding lat_lngs and cities\n",
    "lat_lngs = []\n",
    "cities = []\n",
    "\n",
    "# Create a set of random lat and lng combinations\n",
    "lats = np.random.uniform(lat_range[0], lat_range[1], size=1500)\n",
    "lngs = np.random.uniform(lng_range[0], lng_range[1], size=1500)\n",
    "lat_lngs = zip(lats, lngs)\n",
    "\n",
    "# Identify nearest city for each lat, lng combination\n",
    "for lat_lng in lat_lngs:\n",
    "    city = citipy.nearest_city(lat_lng[0], lat_lng[1]).city_name\n",
    "    \n",
    "    # If the city is unique, then add it to a our cities list\n",
    "    if city not in cities:\n",
    "        cities.append(city)\n",
    "\n",
    "# Print the city count to confirm sufficient count\n",
    "len(cities)"
   ]
  },
  {
   "cell_type": "markdown",
   "metadata": {},
   "source": [
    "### Perform API Calls\n",
    "* Perform a weather check on each city using a series of successive API calls.\n",
    "* Include a print log of each city as it'sbeing processed (with the city number and city name).\n"
   ]
  },
  {
   "cell_type": "code",
   "execution_count": 4,
   "metadata": {},
   "outputs": [
    {
     "data": {
      "text/html": [
       "<div>\n",
       "<style scoped>\n",
       "    .dataframe tbody tr th:only-of-type {\n",
       "        vertical-align: middle;\n",
       "    }\n",
       "\n",
       "    .dataframe tbody tr th {\n",
       "        vertical-align: top;\n",
       "    }\n",
       "\n",
       "    .dataframe thead th {\n",
       "        text-align: right;\n",
       "    }\n",
       "</style>\n",
       "<table border=\"1\" class=\"dataframe\">\n",
       "  <thead>\n",
       "    <tr style=\"text-align: right;\">\n",
       "      <th></th>\n",
       "      <th>City</th>\n",
       "      <th>Lat</th>\n",
       "      <th>Lng</th>\n",
       "      <th>Max Temp</th>\n",
       "      <th>Humidity</th>\n",
       "      <th>Cloudiness</th>\n",
       "      <th>Wind Speed</th>\n",
       "      <th>Country</th>\n",
       "      <th>Date</th>\n",
       "    </tr>\n",
       "  </thead>\n",
       "  <tbody>\n",
       "    <tr>\n",
       "      <th>0</th>\n",
       "      <td>pangnirtung</td>\n",
       "      <td></td>\n",
       "      <td></td>\n",
       "      <td></td>\n",
       "      <td></td>\n",
       "      <td></td>\n",
       "      <td></td>\n",
       "      <td></td>\n",
       "      <td></td>\n",
       "    </tr>\n",
       "    <tr>\n",
       "      <th>1</th>\n",
       "      <td>zhezkazgan</td>\n",
       "      <td></td>\n",
       "      <td></td>\n",
       "      <td></td>\n",
       "      <td></td>\n",
       "      <td></td>\n",
       "      <td></td>\n",
       "      <td></td>\n",
       "      <td></td>\n",
       "    </tr>\n",
       "    <tr>\n",
       "      <th>2</th>\n",
       "      <td>saleaula</td>\n",
       "      <td></td>\n",
       "      <td></td>\n",
       "      <td></td>\n",
       "      <td></td>\n",
       "      <td></td>\n",
       "      <td></td>\n",
       "      <td></td>\n",
       "      <td></td>\n",
       "    </tr>\n",
       "    <tr>\n",
       "      <th>3</th>\n",
       "      <td>barrow</td>\n",
       "      <td></td>\n",
       "      <td></td>\n",
       "      <td></td>\n",
       "      <td></td>\n",
       "      <td></td>\n",
       "      <td></td>\n",
       "      <td></td>\n",
       "      <td></td>\n",
       "    </tr>\n",
       "    <tr>\n",
       "      <th>4</th>\n",
       "      <td>asau</td>\n",
       "      <td></td>\n",
       "      <td></td>\n",
       "      <td></td>\n",
       "      <td></td>\n",
       "      <td></td>\n",
       "      <td></td>\n",
       "      <td></td>\n",
       "      <td></td>\n",
       "    </tr>\n",
       "    <tr>\n",
       "      <th>...</th>\n",
       "      <td>...</td>\n",
       "      <td>...</td>\n",
       "      <td>...</td>\n",
       "      <td>...</td>\n",
       "      <td>...</td>\n",
       "      <td>...</td>\n",
       "      <td>...</td>\n",
       "      <td>...</td>\n",
       "      <td>...</td>\n",
       "    </tr>\n",
       "    <tr>\n",
       "      <th>608</th>\n",
       "      <td>santa rosalia</td>\n",
       "      <td></td>\n",
       "      <td></td>\n",
       "      <td></td>\n",
       "      <td></td>\n",
       "      <td></td>\n",
       "      <td></td>\n",
       "      <td></td>\n",
       "      <td></td>\n",
       "    </tr>\n",
       "    <tr>\n",
       "      <th>609</th>\n",
       "      <td>goma</td>\n",
       "      <td></td>\n",
       "      <td></td>\n",
       "      <td></td>\n",
       "      <td></td>\n",
       "      <td></td>\n",
       "      <td></td>\n",
       "      <td></td>\n",
       "      <td></td>\n",
       "    </tr>\n",
       "    <tr>\n",
       "      <th>610</th>\n",
       "      <td>hit</td>\n",
       "      <td></td>\n",
       "      <td></td>\n",
       "      <td></td>\n",
       "      <td></td>\n",
       "      <td></td>\n",
       "      <td></td>\n",
       "      <td></td>\n",
       "      <td></td>\n",
       "    </tr>\n",
       "    <tr>\n",
       "      <th>611</th>\n",
       "      <td>palabuhanratu</td>\n",
       "      <td></td>\n",
       "      <td></td>\n",
       "      <td></td>\n",
       "      <td></td>\n",
       "      <td></td>\n",
       "      <td></td>\n",
       "      <td></td>\n",
       "      <td></td>\n",
       "    </tr>\n",
       "    <tr>\n",
       "      <th>612</th>\n",
       "      <td>svetlaya</td>\n",
       "      <td></td>\n",
       "      <td></td>\n",
       "      <td></td>\n",
       "      <td></td>\n",
       "      <td></td>\n",
       "      <td></td>\n",
       "      <td></td>\n",
       "      <td></td>\n",
       "    </tr>\n",
       "  </tbody>\n",
       "</table>\n",
       "<p>613 rows × 9 columns</p>\n",
       "</div>"
      ],
      "text/plain": [
       "              City Lat Lng Max Temp Humidity Cloudiness Wind Speed Country  \\\n",
       "0      pangnirtung                                                           \n",
       "1       zhezkazgan                                                           \n",
       "2         saleaula                                                           \n",
       "3           barrow                                                           \n",
       "4             asau                                                           \n",
       "..             ...  ..  ..      ...      ...        ...        ...     ...   \n",
       "608  santa rosalia                                                           \n",
       "609           goma                                                           \n",
       "610            hit                                                           \n",
       "611  palabuhanratu                                                           \n",
       "612       svetlaya                                                           \n",
       "\n",
       "    Date  \n",
       "0         \n",
       "1         \n",
       "2         \n",
       "3         \n",
       "4         \n",
       "..   ...  \n",
       "608       \n",
       "609       \n",
       "610       \n",
       "611       \n",
       "612       \n",
       "\n",
       "[613 rows x 9 columns]"
      ]
     },
     "execution_count": 4,
     "metadata": {},
     "output_type": "execute_result"
    }
   ],
   "source": [
    "#creates dataframe for cities weather data and saves cvs\n",
    "cities_df = pd.DataFrame(cities)\n",
    "\n",
    "\n",
    "cities_df['Lat'] = ''\n",
    "cities_df['Lng'] = ''\n",
    "cities_df['Max Temp'] = ''\n",
    "cities_df['Humidity'] = ''\n",
    "cities_df['Cloudiness'] = ''\n",
    "cities_df['Wind Speed'] = ''\n",
    "cities_df['Country'] = ''\n",
    "cities_df['Date'] = ''\n",
    "cities_df.rename(columns={ cities_df.columns[0]: \"City\" }, inplace = True)\n",
    "cities_df"
   ]
  },
  {
   "cell_type": "code",
   "execution_count": 29,
   "metadata": {},
   "outputs": [
    {
     "name": "stdout",
     "output_type": "stream",
     "text": [
      "Processing record 0 | pangnirtung\n",
      "Processing record 1 | zhezkazgan\n",
      "Processing record 2 | saleaula\n",
      "City not found. Skipping...\n",
      "Processing record 3 | barrow\n",
      "Processing record 4 | asau\n",
      "Processing record 5 | nouadhibou\n",
      "Processing record 6 | albany\n",
      "Processing record 7 | hermanus\n",
      "Processing record 8 | roebourne\n",
      "Processing record 9 | ribeira grande\n",
      "Processing record 10 | cidreira\n",
      "Processing record 11 | hobart\n",
      "Processing record 12 | rikitea\n",
      "Processing record 13 | lebu\n",
      "Processing record 14 | vaini\n",
      "Processing record 15 | tiksi\n",
      "Processing record 16 | ponta do sol\n",
      "Processing record 17 | lima\n",
      "Processing record 18 | iquitos\n",
      "Processing record 19 | mar del plata\n",
      "Processing record 20 | san jose\n",
      "Processing record 21 | kavieng\n",
      "Processing record 22 | muzhi\n",
      "Processing record 23 | mabaruma\n",
      "Processing record 24 | ratnagiri\n",
      "Processing record 25 | lompoc\n",
      "Processing record 26 | sentyabrskiy\n",
      "City not found. Skipping...\n",
      "Processing record 27 | varhaug\n",
      "Processing record 28 | aligudarz\n",
      "Processing record 29 | synya\n",
      "Processing record 30 | ushuaia\n",
      "Processing record 31 | busselton\n",
      "Processing record 32 | grand gaube\n",
      "Processing record 33 | tupi paulista\n",
      "Processing record 34 | tumannyy\n",
      "City not found. Skipping...\n",
      "Processing record 35 | new norfolk\n",
      "Processing record 36 | kodiak\n",
      "Processing record 37 | mataura\n",
      "Processing record 38 | punta arenas\n",
      "Processing record 39 | mitsamiouli\n",
      "Processing record 40 | jamestown\n",
      "Processing record 41 | khatanga\n",
      "Processing record 42 | bengkulu\n",
      "Processing record 43 | ginda\n",
      "Processing record 44 | barentsburg\n",
      "City not found. Skipping...\n",
      "Processing record 45 | krasnoarmeysk\n",
      "Processing record 46 | sao filipe\n",
      "Processing record 47 | butaritari\n",
      "Processing record 48 | payson\n",
      "Processing record 49 | geraldton\n",
      "Processing record 50 | pishin\n",
      "Processing record 51 | banmo\n",
      "City not found. Skipping...\n",
      "Processing record 52 | chuy\n",
      "Processing record 53 | clyde river\n",
      "Processing record 54 | cadillac\n",
      "Processing record 55 | atuona\n",
      "Processing record 56 | bargal\n",
      "City not found. Skipping...\n",
      "Processing record 57 | udachnyy\n",
      "Processing record 58 | paita\n",
      "Processing record 59 | bluff\n",
      "Processing record 60 | faanui\n",
      "Processing record 61 | mahebourg\n",
      "Processing record 62 | catarman\n",
      "Processing record 63 | moissala\n",
      "Processing record 64 | aklavik\n",
      "Processing record 65 | lavrentiya\n",
      "Processing record 66 | kloulklubed\n",
      "Processing record 67 | itarema\n",
      "Processing record 68 | carnarvon\n",
      "Processing record 69 | longyearbyen\n",
      "Processing record 70 | olafsvik\n",
      "Processing record 71 | saskylakh\n",
      "Processing record 72 | inhambane\n",
      "Processing record 73 | avarua\n",
      "Processing record 74 | kahului\n",
      "Processing record 75 | avera\n",
      "Processing record 76 | haines junction\n",
      "Processing record 77 | tsihombe\n",
      "City not found. Skipping...\n",
      "Processing record 78 | panuco\n",
      "Processing record 79 | taolanaro\n",
      "City not found. Skipping...\n",
      "Processing record 80 | oktyabrskiy\n",
      "Processing record 81 | louisbourg\n",
      "City not found. Skipping...\n",
      "Processing record 82 | vila velha\n",
      "Processing record 83 | chumikan\n",
      "Processing record 84 | chokurdakh\n",
      "Processing record 85 | thompson\n",
      "Processing record 86 | redmond\n",
      "Processing record 87 | dunmore town\n",
      "Processing record 88 | sao joao da barra\n",
      "Processing record 89 | bambous virieux\n",
      "Processing record 90 | aykhal\n",
      "Processing record 91 | alofi\n",
      "Processing record 92 | norman wells\n",
      "Processing record 93 | san patricio\n",
      "Processing record 94 | gazimurskiy zavod\n",
      "Processing record 95 | mount gambier\n",
      "Processing record 96 | chipinge\n",
      "Processing record 97 | lata\n",
      "Processing record 98 | port hardy\n",
      "Processing record 99 | forbes\n",
      "Processing record 100 | cape town\n",
      "Processing record 101 | provideniya\n",
      "Processing record 102 | soledade\n",
      "Processing record 103 | ketchikan\n",
      "Processing record 104 | nikolskoye\n",
      "Processing record 105 | resen\n",
      "Processing record 106 | epernay\n",
      "Processing record 107 | safwah\n",
      "City not found. Skipping...\n",
      "Processing record 108 | oyama\n",
      "Processing record 109 | luan\n",
      "Processing record 110 | qandahar\n",
      "City not found. Skipping...\n",
      "Processing record 111 | necochea\n",
      "Processing record 112 | middelburg\n",
      "Processing record 113 | hasaki\n",
      "Processing record 114 | gat\n",
      "Processing record 115 | shenjiamen\n",
      "Processing record 116 | port alfred\n",
      "Processing record 117 | lolua\n",
      "City not found. Skipping...\n",
      "Processing record 118 | kalmunai\n",
      "Processing record 119 | talnakh\n",
      "Processing record 120 | lisieux\n",
      "Processing record 121 | lagoa vermelha\n",
      "Processing record 122 | broken hill\n",
      "Processing record 123 | santiago\n",
      "Processing record 124 | tornio\n",
      "Processing record 125 | esperance\n",
      "Processing record 126 | kapaa\n",
      "Processing record 127 | riyadh\n",
      "Processing record 128 | ancud\n",
      "Processing record 129 | torbay\n",
      "Processing record 130 | cherskiy\n",
      "Processing record 131 | filingue\n",
      "Processing record 132 | tuktoyaktuk\n",
      "Processing record 133 | bahia honda\n",
      "Processing record 134 | hithadhoo\n",
      "Processing record 135 | vostok\n",
      "Processing record 136 | gallup\n",
      "Processing record 137 | plettenberg bay\n",
      "Processing record 138 | waipawa\n",
      "Processing record 139 | puerto ayora\n",
      "Processing record 140 | ajdabiya\n",
      "Processing record 141 | sarangani\n",
      "Processing record 142 | yarega\n",
      "Processing record 143 | bontoc\n",
      "Processing record 144 | ladyzhyn\n",
      "Processing record 145 | kununurra\n",
      "Processing record 146 | korla\n",
      "Processing record 147 | agde\n",
      "Processing record 148 | rudnyy\n",
      "Processing record 149 | tautira\n",
      "Processing record 150 | attawapiskat\n",
      "City not found. Skipping...\n",
      "Processing record 151 | prince rupert\n",
      "Processing record 152 | bredasdorp\n",
      "Processing record 153 | yellowknife\n",
      "Processing record 154 | hervey bay\n",
      "Processing record 155 | marsh harbour\n",
      "Processing record 156 | tasiilaq\n",
      "Processing record 157 | normandin\n",
      "Processing record 158 | georgetown\n",
      "Processing record 159 | nishihara\n",
      "Processing record 160 | bardiyah\n",
      "Processing record 161 | pitimbu\n",
      "Processing record 162 | mananara\n",
      "Processing record 163 | portel\n",
      "Processing record 164 | rocha\n",
      "Processing record 165 | ghanzi\n",
      "Processing record 166 | port elizabeth\n",
      "Processing record 167 | noumea\n",
      "Processing record 168 | vaitupu\n",
      "City not found. Skipping...\n",
      "Processing record 169 | dikson\n",
      "Processing record 170 | bowen\n",
      "Processing record 171 | mount isa\n",
      "Processing record 172 | waw\n",
      "Processing record 173 | hilo\n",
      "Processing record 174 | kaitangata\n",
      "Processing record 175 | gorontalo\n",
      "Processing record 176 | mahon\n",
      "Processing record 177 | rexburg\n",
      "Processing record 178 | zhaoyuan\n",
      "Processing record 179 | atikokan\n",
      "Processing record 180 | dakar\n",
      "Processing record 181 | qaanaaq\n",
      "Processing record 182 | westport\n",
      "Processing record 183 | mehamn\n",
      "Processing record 184 | ocos\n",
      "Processing record 185 | zadonsk\n",
      "Processing record 186 | bandar-e lengeh\n",
      "Processing record 187 | gorno-chuyskiy\n",
      "City not found. Skipping...\n",
      "Processing record 188 | pevek\n",
      "Processing record 189 | boulder\n",
      "Processing record 190 | banda aceh\n",
      "Processing record 191 | nouakchott\n",
      "Processing record 192 | serebryansk\n",
      "Processing record 193 | bathsheba\n",
      "Processing record 194 | saint-philippe\n",
      "Processing record 195 | ilulissat\n",
      "Processing record 196 | vao\n",
      "Processing record 197 | salalah\n",
      "Processing record 198 | whitehaven\n",
      "Processing record 199 | kavaratti\n",
      "Processing record 200 | port lincoln\n",
      "Processing record 201 | luderitz\n",
      "Processing record 202 | mahibadhoo\n",
      "Processing record 203 | comodoro rivadavia\n",
      "Processing record 204 | diamantino\n",
      "Processing record 205 | mazara del vallo\n",
      "Processing record 206 | andenes\n",
      "Processing record 207 | arrecife\n",
      "Processing record 208 | balikpapan\n",
      "Processing record 209 | saint george\n",
      "Processing record 210 | camacupa\n",
      "Processing record 211 | sawakin\n",
      "Processing record 212 | culpeper\n",
      "Processing record 213 | souillac\n",
      "Processing record 214 | airai\n",
      "Processing record 215 | kruisfontein\n",
      "Processing record 216 | malwan\n",
      "City not found. Skipping...\n",
      "Processing record 217 | carutapera\n",
      "Processing record 218 | abu samrah\n",
      "Processing record 219 | nizhneyansk\n",
      "City not found. Skipping...\n",
      "Processing record 220 | buin\n",
      "Processing record 221 | isangel\n",
      "Processing record 222 | east london\n",
      "Processing record 223 | haimen\n",
      "Processing record 224 | frontera\n",
      "Processing record 225 | palmer\n",
      "Processing record 226 | saldanha\n",
      "Processing record 227 | viedma\n",
      "Processing record 228 | skibbereen\n",
      "Processing record 229 | la ronge\n",
      "Processing record 230 | lubsko\n",
      "Processing record 231 | nakanojo\n",
      "Processing record 232 | castro\n",
      "Processing record 233 | yirol\n",
      "City not found. Skipping...\n"
     ]
    },
    {
     "name": "stdout",
     "output_type": "stream",
     "text": [
      "Processing record 234 | ugoofaaru\n",
      "Processing record 235 | kenai\n",
      "Processing record 236 | topeka\n",
      "Processing record 237 | namibe\n",
      "Processing record 238 | iqaluit\n",
      "Processing record 239 | puri\n",
      "Processing record 240 | galesong\n",
      "Processing record 241 | berezovyy\n",
      "Processing record 242 | forestville\n",
      "Processing record 243 | rawannawi\n",
      "City not found. Skipping...\n",
      "Processing record 244 | akdagmadeni\n",
      "Processing record 245 | lorengau\n",
      "Processing record 246 | gurupa\n",
      "Processing record 247 | belushya guba\n",
      "City not found. Skipping...\n",
      "Processing record 248 | buchanan\n",
      "Processing record 249 | chengmai\n",
      "City not found. Skipping...\n",
      "Processing record 250 | havre-saint-pierre\n",
      "Processing record 251 | kilindoni\n",
      "Processing record 252 | bereda\n",
      "Processing record 253 | najran\n",
      "Processing record 254 | bolungarvik\n",
      "City not found. Skipping...\n",
      "Processing record 255 | arraial do cabo\n",
      "Processing record 256 | praia da vitoria\n",
      "Processing record 257 | rawson\n",
      "Processing record 258 | sendai\n",
      "Processing record 259 | buckeye\n",
      "Processing record 260 | karasuk\n",
      "Processing record 261 | saint-augustin\n",
      "Processing record 262 | upernavik\n",
      "Processing record 263 | bratsk\n",
      "Processing record 264 | ingham\n",
      "Processing record 265 | tateyama\n",
      "Processing record 266 | santa marta\n",
      "Processing record 267 | taoudenni\n",
      "Processing record 268 | tidore\n",
      "City not found. Skipping...\n",
      "Processing record 269 | gold coast\n",
      "Processing record 270 | hihifo\n",
      "City not found. Skipping...\n",
      "Processing record 271 | havoysund\n",
      "Processing record 272 | kilmez\n",
      "City not found. Skipping...\n",
      "Processing record 273 | amderma\n",
      "City not found. Skipping...\n",
      "Processing record 274 | henties bay\n",
      "Processing record 275 | one hundred mile house\n",
      "City not found. Skipping...\n",
      "Processing record 276 | cloquet\n",
      "Processing record 277 | laguna\n",
      "Processing record 278 | tuatapere\n",
      "Processing record 279 | sao miguel do tapuio\n",
      "Processing record 280 | naftah\n",
      "City not found. Skipping...\n",
      "Processing record 281 | adrar\n",
      "Processing record 282 | tabou\n",
      "Processing record 283 | rolla\n",
      "Processing record 284 | portland\n",
      "Processing record 285 | north bend\n",
      "Processing record 286 | puerto madryn\n",
      "Processing record 287 | drovyanaya\n",
      "Processing record 288 | husavik\n",
      "Processing record 289 | tubruq\n",
      "City not found. Skipping...\n",
      "Processing record 290 | saint-georges\n",
      "Processing record 291 | palu\n",
      "Processing record 292 | doka\n",
      "Processing record 293 | bairiki\n",
      "Processing record 294 | illoqqortoormiut\n",
      "City not found. Skipping...\n",
      "Processing record 295 | codrington\n",
      "Processing record 296 | nove hrady\n",
      "Processing record 297 | karaul\n",
      "City not found. Skipping...\n",
      "Processing record 298 | labuan\n",
      "Processing record 299 | ternate\n",
      "Processing record 300 | naro moru\n",
      "Processing record 301 | sirjan\n",
      "Processing record 302 | moranbah\n",
      "Processing record 303 | port-cartier\n",
      "Processing record 304 | dien bien\n",
      "City not found. Skipping...\n",
      "Processing record 305 | jacareacanga\n",
      "Processing record 306 | serra talhada\n",
      "Processing record 307 | kerema\n",
      "Processing record 308 | guerrero negro\n",
      "Processing record 309 | tupiza\n",
      "Processing record 310 | jahrom\n",
      "City not found. Skipping...\n",
      "Processing record 311 | cabo san lucas\n",
      "Processing record 312 | tarauaca\n",
      "Processing record 313 | goderich\n",
      "Processing record 314 | port blair\n",
      "Processing record 315 | ahuimanu\n",
      "Processing record 316 | preobrazheniye\n",
      "Processing record 317 | valparaiso\n",
      "Processing record 318 | nanortalik\n",
      "Processing record 319 | valuyki\n",
      "Processing record 320 | afsin\n",
      "Processing record 321 | arman\n",
      "Processing record 322 | karratha\n",
      "Processing record 323 | voh\n",
      "Processing record 324 | krasnoselkup\n",
      "Processing record 325 | jalu\n",
      "Processing record 326 | miri\n",
      "Processing record 327 | belyy yar\n",
      "Processing record 328 | moshupa\n",
      "Processing record 329 | mayya\n",
      "Processing record 330 | vikulovo\n",
      "Processing record 331 | mys shmidta\n",
      "City not found. Skipping...\n",
      "Processing record 332 | birin\n",
      "Processing record 333 | dunedin\n",
      "Processing record 334 | wanaka\n",
      "Processing record 335 | port macquarie\n",
      "Processing record 336 | nioro\n",
      "Processing record 337 | vredendal\n",
      "Processing record 338 | berlevag\n",
      "Processing record 339 | derzhavinsk\n",
      "Processing record 340 | huarmey\n",
      "Processing record 341 | kutum\n",
      "Processing record 342 | haizhou\n",
      "Processing record 343 | carora\n",
      "Processing record 344 | bara\n",
      "Processing record 345 | victoria\n",
      "Processing record 346 | lagoa\n",
      "Processing record 347 | roman\n",
      "Processing record 348 | chicama\n",
      "Processing record 349 | atambua\n",
      "Processing record 350 | qaqortoq\n",
      "Processing record 351 | northam\n",
      "Processing record 352 | volterra\n",
      "Processing record 353 | toguchin\n",
      "Processing record 354 | grindavik\n",
      "Processing record 355 | la rochelle\n",
      "Processing record 356 | longhua\n",
      "Processing record 357 | belaya gora\n",
      "Processing record 358 | crib point\n",
      "Processing record 359 | de aar\n",
      "Processing record 360 | kizema\n",
      "Processing record 361 | millport\n",
      "Processing record 362 | oranjemund\n",
      "Processing record 363 | port shepstone\n",
      "Processing record 364 | pochutla\n",
      "Processing record 365 | bethel\n",
      "Processing record 366 | baruun-urt\n",
      "Processing record 367 | caravelas\n",
      "Processing record 368 | christchurch\n",
      "Processing record 369 | road town\n",
      "Processing record 370 | havelock\n",
      "Processing record 371 | leningradskiy\n",
      "Processing record 372 | nanyang\n",
      "Processing record 373 | nemuro\n",
      "Processing record 374 | iquique\n",
      "Processing record 375 | yumen\n",
      "Processing record 376 | tocopilla\n",
      "Processing record 377 | nigde\n",
      "Processing record 378 | ganzhou\n",
      "Processing record 379 | constitucion\n",
      "Processing record 380 | tabiauea\n",
      "City not found. Skipping...\n",
      "Processing record 381 | mastic beach\n",
      "Processing record 382 | petropavlovka\n",
      "Processing record 383 | safita\n",
      "Processing record 384 | cayenne\n",
      "Processing record 385 | moskovskoye\n",
      "Processing record 386 | chengde\n",
      "Processing record 387 | san pedro\n",
      "Processing record 388 | muroto\n",
      "Processing record 389 | aden\n",
      "Processing record 390 | ambatondrazaka\n",
      "Processing record 391 | podhum\n",
      "Processing record 392 | varnavino\n",
      "Processing record 393 | wegrow\n",
      "Processing record 394 | paris\n",
      "Processing record 395 | lusambo\n",
      "Processing record 396 | maniitsoq\n",
      "Processing record 397 | bagdarin\n",
      "Processing record 398 | marystown\n",
      "Processing record 399 | kodarma\n",
      "Processing record 400 | khilok\n",
      "Processing record 401 | ivanovka\n",
      "Processing record 402 | urumqi\n",
      "Processing record 403 | wahran\n",
      "City not found. Skipping...\n",
      "Processing record 404 | north battleford\n",
      "Processing record 405 | farafenni\n",
      "Processing record 406 | grand river south east\n",
      "City not found. Skipping...\n",
      "Processing record 407 | saint-pierre\n",
      "Processing record 408 | severo-kurilsk\n",
      "Processing record 409 | kamenskoye\n",
      "City not found. Skipping...\n",
      "Processing record 410 | samalaeulu\n",
      "City not found. Skipping...\n",
      "Processing record 411 | sri aman\n",
      "Processing record 412 | flin flon\n",
      "Processing record 413 | bolu\n",
      "Processing record 414 | baykit\n",
      "Processing record 415 | wattegama\n",
      "Processing record 416 | guaratuba\n",
      "Processing record 417 | yeppoon\n",
      "Processing record 418 | leshukonskoye\n",
      "Processing record 419 | alness\n",
      "Processing record 420 | madera\n",
      "Processing record 421 | sokolo\n",
      "Processing record 422 | san juan\n",
      "Processing record 423 | shingu\n",
      "Processing record 424 | loviisa\n",
      "Processing record 425 | half moon bay\n",
      "Processing record 426 | jalingo\n",
      "Processing record 427 | funadhoo\n",
      "Processing record 428 | berdigestyakh\n",
      "Processing record 429 | melnikovo\n",
      "Processing record 430 | cahors\n",
      "Processing record 431 | surab\n",
      "Processing record 432 | quatre cocos\n",
      "Processing record 433 | swindon\n",
      "Processing record 434 | the pas\n",
      "Processing record 435 | diban\n",
      "Processing record 436 | vuktyl\n",
      "Processing record 437 | bergama\n",
      "Processing record 438 | acarau\n",
      "Processing record 439 | nanakuli\n",
      "Processing record 440 | fairbanks\n",
      "Processing record 441 | bintulu\n",
      "Processing record 442 | russell\n",
      "Processing record 443 | ondo\n",
      "Processing record 444 | gigmoto\n",
      "Processing record 445 | hadrut\n",
      "Processing record 446 | anastacio\n",
      "Processing record 447 | sembakung\n",
      "Processing record 448 | stefanesti\n",
      "Processing record 449 | biak\n",
      "Processing record 450 | yialos\n",
      "City not found. Skipping...\n",
      "Processing record 451 | marcona\n",
      "City not found. Skipping...\n",
      "Processing record 452 | fort dodge\n",
      "Processing record 453 | fort nelson\n",
      "Processing record 454 | dubenskiy\n",
      "City not found. Skipping...\n",
      "Processing record 455 | storforshei\n",
      "Processing record 456 | klaeng\n",
      "Processing record 457 | coquimbo\n",
      "Processing record 458 | salvador\n",
      "Processing record 459 | jardim\n"
     ]
    },
    {
     "name": "stdout",
     "output_type": "stream",
     "text": [
      "Processing record 460 | vardo\n",
      "Processing record 461 | broome\n",
      "Processing record 462 | dingzhou\n",
      "Processing record 463 | brenes\n",
      "Processing record 464 | hamilton\n",
      "Processing record 465 | xichang\n",
      "Processing record 466 | waddan\n",
      "Processing record 467 | sabara\n",
      "Processing record 468 | tiarei\n",
      "Processing record 469 | chlorakas\n",
      "Processing record 470 | majene\n",
      "Processing record 471 | buraydah\n",
      "Processing record 472 | kampot\n",
      "Processing record 473 | la carolina\n",
      "Processing record 474 | patitirion\n",
      "Processing record 475 | atkinson\n",
      "Processing record 476 | verkhnyaya inta\n",
      "Processing record 477 | aksarka\n",
      "Processing record 478 | dongsheng\n",
      "Processing record 479 | malakal\n",
      "Processing record 480 | nerchinskiy zavod\n",
      "Processing record 481 | hami\n",
      "Processing record 482 | ponta delgada\n",
      "Processing record 483 | nautla\n",
      "Processing record 484 | meulaboh\n",
      "Processing record 485 | keti bandar\n",
      "Processing record 486 | zaria\n",
      "Processing record 487 | takoradi\n",
      "Processing record 488 | maceio\n",
      "Processing record 489 | plover\n",
      "Processing record 490 | kidal\n",
      "Processing record 491 | warqla\n",
      "City not found. Skipping...\n",
      "Processing record 492 | selma\n",
      "Processing record 493 | sataua\n",
      "City not found. Skipping...\n",
      "Processing record 494 | abu dhabi\n",
      "Processing record 495 | hadsund\n",
      "Processing record 496 | naze\n",
      "Processing record 497 | aksu\n",
      "Processing record 498 | eastbourne\n",
      "Processing record 499 | sabzevar\n",
      "Processing record 500 | goksun\n",
      "Processing record 501 | morant bay\n",
      "Processing record 502 | vitim\n",
      "Processing record 503 | jawhar\n",
      "Processing record 504 | sitka\n",
      "Processing record 505 | dingle\n",
      "Processing record 506 | price\n",
      "Processing record 507 | tibiri\n",
      "Processing record 508 | ambilobe\n",
      "Processing record 509 | lazarev\n",
      "Processing record 510 | jibuti\n",
      "Processing record 511 | pascagoula\n",
      "Processing record 512 | katsuura\n",
      "Processing record 513 | muros\n",
      "Processing record 514 | codo\n",
      "Processing record 515 | georgiyevka\n",
      "Processing record 516 | hornepayne\n",
      "Processing record 517 | sibu\n",
      "Processing record 518 | sept-iles\n",
      "Processing record 519 | ballina\n",
      "Processing record 520 | kangaatsiaq\n",
      "Processing record 521 | zhigansk\n",
      "Processing record 522 | noyabrsk\n",
      "Processing record 523 | bilgoraj\n",
      "Processing record 524 | monticello\n",
      "Processing record 525 | pochinki\n",
      "Processing record 526 | kawalu\n",
      "Processing record 527 | san quintin\n",
      "Processing record 528 | bar harbor\n",
      "Processing record 529 | kaeo\n",
      "Processing record 530 | bud\n",
      "Processing record 531 | mecca\n",
      "Processing record 532 | lakes entrance\n",
      "Processing record 533 | norsup\n",
      "Processing record 534 | saint anthony\n",
      "Processing record 535 | neveklov\n",
      "Processing record 536 | iberia\n",
      "Processing record 537 | fortuna\n",
      "Processing record 538 | ploemeur\n",
      "Processing record 539 | marawi\n",
      "Processing record 540 | petropavlovsk-kamchatskiy\n",
      "Processing record 541 | linfen\n",
      "Processing record 542 | murmashi\n",
      "Processing record 543 | esso\n",
      "Processing record 544 | bossembele\n",
      "City not found. Skipping...\n",
      "Processing record 545 | mayumba\n",
      "Processing record 546 | haapu\n",
      "City not found. Skipping...\n",
      "Processing record 547 | vihari\n",
      "Processing record 548 | bar-le-duc\n",
      "Processing record 549 | ostrovnoy\n",
      "Processing record 550 | londoko\n",
      "Processing record 551 | sosnovo-ozerskoye\n",
      "Processing record 552 | faya\n",
      "Processing record 553 | nangong\n",
      "Processing record 554 | nagato\n",
      "Processing record 555 | wangaratta\n",
      "Processing record 556 | coahuayana\n",
      "Processing record 557 | along\n",
      "Processing record 558 | altamont\n",
      "Processing record 559 | port ellen\n",
      "City not found. Skipping...\n",
      "Processing record 560 | safaqis\n",
      "City not found. Skipping...\n",
      "Processing record 561 | calamar\n",
      "Processing record 562 | deputatskiy\n",
      "Processing record 563 | srednekolymsk\n",
      "Processing record 564 | vestmannaeyjar\n",
      "Processing record 565 | moose factory\n",
      "Processing record 566 | pedernales\n",
      "Processing record 567 | whitehorse\n",
      "Processing record 568 | markova\n",
      "Processing record 569 | veraval\n",
      "Processing record 570 | mocuba\n",
      "Processing record 571 | tete\n",
      "Processing record 572 | lumeje\n",
      "Processing record 573 | maragogi\n",
      "Processing record 574 | vila\n",
      "Processing record 575 | jumla\n",
      "Processing record 576 | mount darwin\n",
      "Processing record 577 | rio gallegos\n",
      "Processing record 578 | sola\n",
      "Processing record 579 | margate\n",
      "Processing record 580 | mullaitivu\n",
      "City not found. Skipping...\n",
      "Processing record 581 | tual\n",
      "Processing record 582 | fernandina beach\n",
      "Processing record 583 | altus\n",
      "Processing record 584 | linaon\n",
      "Processing record 585 | oussouye\n",
      "Processing record 586 | syamzha\n",
      "Processing record 587 | ndele\n",
      "Processing record 588 | praya\n",
      "Processing record 589 | summerside\n",
      "Processing record 590 | boguchany\n",
      "Processing record 591 | stornoway\n",
      "Processing record 592 | cravo norte\n",
      "Processing record 593 | kirkuk\n",
      "Processing record 594 | mayo\n",
      "Processing record 595 | simbahan\n",
      "Processing record 596 | puli\n",
      "Processing record 597 | alcacer do sal\n",
      "Processing record 598 | beyneu\n",
      "Processing record 599 | umm kaddadah\n",
      "Processing record 600 | yendi\n",
      "Processing record 601 | nyurba\n",
      "Processing record 602 | vysokogornyy\n",
      "Processing record 603 | sistranda\n",
      "Processing record 604 | aleksandrov gay\n",
      "Processing record 605 | nabire\n",
      "Processing record 606 | ijaki\n",
      "City not found. Skipping...\n",
      "Processing record 607 | portobelo\n",
      "Processing record 608 | santa rosalia\n",
      "Processing record 609 | goma\n",
      "Processing record 610 | hit\n",
      "Processing record 611 | palabuhanratu\n",
      "City not found. Skipping...\n",
      "Processing record 612 | svetlaya\n"
     ]
    }
   ],
   "source": [
    "#set static parameter for api key\n",
    "params={\n",
    "    \"appid\": weather_api_key\n",
    "}\n",
    "\n",
    "base_url = \"http://api.openweathermap.org/data/2.5/weather?\"\n",
    "#loop to loop through the city parameter and add Lat,Lng,MaxTemp,Humidity, cloudiness,windspeed,country and date\n",
    "for index, row in cities_df.iterrows():\n",
    "    city = row.City\n",
    "        \n",
    "    params[\"q\"] = city\n",
    "    \n",
    "    cities_lat_lng = requests.get(base_url,params).json()\n",
    "    print(f\"Processing record {index} | {city}\")\n",
    "    try:\n",
    "        cities_df.loc[index,'Lat'] = cities_lat_lng['coord']['lat']\n",
    "        cities_df.loc[index,'Lng'] = cities_lat_lng['coord']['lon']\n",
    "        cities_df.loc[index,'Max Temp'] = cities_lat_lng['main']['temp_max']\n",
    "        cities_df.loc[index,'Humidity'] = cities_lat_lng['main']['humidity']\n",
    "        cities_df.loc[index,'Cloudiness'] = cities_lat_lng['clouds']['all']\n",
    "        cities_df.loc[index,'Wind Speed'] = cities_lat_lng['wind']['speed']\n",
    "        cities_df.loc[index,'Country'] = cities_lat_lng['sys']['country']\n",
    "        cities_df.loc[index,'Date'] = cities_lat_lng['dt']\n",
    "    #also for cities not found in the open weather to be skipped and show progress\n",
    "    except (KeyError, SyntaxError):\n",
    "           print(\"City not found. Skipping...\")"
   ]
  },
  {
   "cell_type": "markdown",
   "metadata": {},
   "source": [
    "### Convert Raw Data to DataFrame\n",
    "* Export the city data into a .csv.\n",
    "* Display the DataFrame"
   ]
  },
  {
   "cell_type": "code",
   "execution_count": 31,
   "metadata": {},
   "outputs": [],
   "source": [
    "#saves output file for Weather Cities Output\n",
    "cities_df.to_csv(\"Weather_cities_output.csv\")"
   ]
  },
  {
   "cell_type": "code",
   "execution_count": 33,
   "metadata": {},
   "outputs": [
    {
     "data": {
      "text/html": [
       "<div>\n",
       "<style scoped>\n",
       "    .dataframe tbody tr th:only-of-type {\n",
       "        vertical-align: middle;\n",
       "    }\n",
       "\n",
       "    .dataframe tbody tr th {\n",
       "        vertical-align: top;\n",
       "    }\n",
       "\n",
       "    .dataframe thead th {\n",
       "        text-align: right;\n",
       "    }\n",
       "</style>\n",
       "<table border=\"1\" class=\"dataframe\">\n",
       "  <thead>\n",
       "    <tr style=\"text-align: right;\">\n",
       "      <th></th>\n",
       "      <th>City</th>\n",
       "      <th>Lat</th>\n",
       "      <th>Lng</th>\n",
       "      <th>Max Temp</th>\n",
       "      <th>Humidity</th>\n",
       "      <th>Cloudiness</th>\n",
       "      <th>Wind Speed</th>\n",
       "      <th>Country</th>\n",
       "      <th>Date</th>\n",
       "    </tr>\n",
       "  </thead>\n",
       "  <tbody>\n",
       "    <tr>\n",
       "      <th>0</th>\n",
       "      <td>pangnirtung</td>\n",
       "      <td>66.1451</td>\n",
       "      <td>-65.7125</td>\n",
       "      <td>288.58</td>\n",
       "      <td>56</td>\n",
       "      <td>100</td>\n",
       "      <td>1.99</td>\n",
       "      <td>CA</td>\n",
       "      <td>1627675979</td>\n",
       "    </tr>\n",
       "    <tr>\n",
       "      <th>1</th>\n",
       "      <td>zhezkazgan</td>\n",
       "      <td>47.8043</td>\n",
       "      <td>67.7144</td>\n",
       "      <td>294.7</td>\n",
       "      <td>20</td>\n",
       "      <td>23</td>\n",
       "      <td>3.22</td>\n",
       "      <td>KZ</td>\n",
       "      <td>1627675980</td>\n",
       "    </tr>\n",
       "    <tr>\n",
       "      <th>2</th>\n",
       "      <td>saleaula</td>\n",
       "      <td></td>\n",
       "      <td></td>\n",
       "      <td></td>\n",
       "      <td></td>\n",
       "      <td></td>\n",
       "      <td></td>\n",
       "      <td></td>\n",
       "      <td></td>\n",
       "    </tr>\n",
       "    <tr>\n",
       "      <th>3</th>\n",
       "      <td>barrow</td>\n",
       "      <td>71.2906</td>\n",
       "      <td>-156.7887</td>\n",
       "      <td>284.16</td>\n",
       "      <td>87</td>\n",
       "      <td>90</td>\n",
       "      <td>3.6</td>\n",
       "      <td>US</td>\n",
       "      <td>1627675980</td>\n",
       "    </tr>\n",
       "    <tr>\n",
       "      <th>4</th>\n",
       "      <td>asau</td>\n",
       "      <td>46.4333</td>\n",
       "      <td>26.4</td>\n",
       "      <td>295.04</td>\n",
       "      <td>77</td>\n",
       "      <td>3</td>\n",
       "      <td>1.83</td>\n",
       "      <td>RO</td>\n",
       "      <td>1627675981</td>\n",
       "    </tr>\n",
       "  </tbody>\n",
       "</table>\n",
       "</div>"
      ],
      "text/plain": [
       "          City      Lat       Lng Max Temp Humidity Cloudiness Wind Speed  \\\n",
       "0  pangnirtung  66.1451  -65.7125   288.58       56        100       1.99   \n",
       "1   zhezkazgan  47.8043   67.7144    294.7       20         23       3.22   \n",
       "2     saleaula                                                              \n",
       "3       barrow  71.2906 -156.7887   284.16       87         90        3.6   \n",
       "4         asau  46.4333      26.4   295.04       77          3       1.83   \n",
       "\n",
       "  Country        Date  \n",
       "0      CA  1627675979  \n",
       "1      KZ  1627675980  \n",
       "2                      \n",
       "3      US  1627675980  \n",
       "4      RO  1627675981  "
      ]
     },
     "execution_count": 33,
     "metadata": {},
     "output_type": "execute_result"
    }
   ],
   "source": [
    "#displaying dataframe to ensure proper data was catpured\n",
    "cities_df.head()"
   ]
  },
  {
   "cell_type": "code",
   "execution_count": 89,
   "metadata": {},
   "outputs": [
    {
     "data": {
      "text/plain": [
       "100.0"
      ]
     },
     "execution_count": 89,
     "metadata": {},
     "output_type": "execute_result"
    }
   ],
   "source": [
    "#checking max humidity for next step\n",
    "humidity_max = cities_df['Humidity'].max()\n",
    "humidity_max  "
   ]
  },
  {
   "cell_type": "markdown",
   "metadata": {},
   "source": [
    "## Inspect the data and remove the cities where the humidity > 100%.\n",
    "----\n",
    "Skip this step if there are no cities that have humidity > 100%. "
   ]
  },
  {
   "cell_type": "code",
   "execution_count": null,
   "metadata": {},
   "outputs": [],
   "source": [
    "#  Get the indices of cities that have humidity over 100%.\n"
   ]
  },
  {
   "cell_type": "code",
   "execution_count": null,
   "metadata": {},
   "outputs": [],
   "source": [
    "# Make a new DataFrame equal to the city data to drop all humidity outliers by index.\n",
    "# Passing \"inplace=False\" will make a copy of the city_data DataFrame, which we call \"clean_city_data\".\n",
    "#section skipped per instruction"
   ]
  },
  {
   "cell_type": "code",
   "execution_count": 50,
   "metadata": {},
   "outputs": [
    {
     "data": {
      "text/plain": [
       "City           object\n",
       "Lat           float32\n",
       "Lng            object\n",
       "Max Temp      float32\n",
       "Humidity      float32\n",
       "Cloudiness    float32\n",
       "Wind Speed    float32\n",
       "Country        object\n",
       "Date           object\n",
       "dtype: object"
      ]
     },
     "execution_count": 50,
     "metadata": {},
     "output_type": "execute_result"
    }
   ],
   "source": [
    "#formating columns from object to float for plotting\n",
    "cities_df[\"Lat\"] = pd.to_numeric(cities_df[\"Lat\"], downcast=\"float\")\n",
    "cities_df[\"Humidity\"] = pd.to_numeric(cities_df[\"Humidity\"], downcast=\"float\")\n",
    "cities_df[\"Max Temp\"] = pd.to_numeric(cities_df[\"Max Temp\"], downcast=\"float\")\n",
    "cities_df[\"Cloudiness\"] = pd.to_numeric(cities_df[\"Cloudiness\"], downcast=\"float\")\n",
    "cities_df[\"Wind Speed\"] = pd.to_numeric(cities_df[\"Wind Speed\"], downcast=\"float\")\n",
    "cities_df.dtypes"
   ]
  },
  {
   "cell_type": "markdown",
   "metadata": {},
   "source": [
    "## Plotting the Data\n",
    "* Use proper labeling of the plots using plot titles (including date of analysis) and axes labels.\n",
    "* Save the plotted figures as .pngs."
   ]
  },
  {
   "cell_type": "markdown",
   "metadata": {},
   "source": [
    "## Latitude vs. Temperature Plot"
   ]
  },
  {
   "cell_type": "code",
   "execution_count": 52,
   "metadata": {
    "scrolled": true
   },
   "outputs": [
    {
     "data": {
      "image/png": "[encoded data removed]",
      "text/plain": [
       "<Figure size 432x288 with 1 Axes>"
      ]
     },
     "metadata": {
      "needs_background": "light"
     },
     "output_type": "display_data"
    }
   ],
   "source": [
    "# Plot Latitude versus Temperature on a scatterplot\n",
    "latitude = cities_df.Lat\n",
    "temperature = cities_df['Max Temp']\n",
    "plt.scatter(latitude,temperature)\n",
    "plt.xlabel(\"Latitude\")\n",
    "plt.ylabel(\"Max Temperature (F)\")\n",
    "plt.title(\"City Latitude vs Max Temperature (7/30/2021)\")\n",
    "plt.show()"
   ]
  },
  {
   "cell_type": "markdown",
   "metadata": {},
   "source": [
    "## Latitude vs. Humidity Plot"
   ]
  },
  {
   "cell_type": "code",
   "execution_count": 53,
   "metadata": {},
   "outputs": [
    {
     "data": {
      "image/png": "[encoded data removed]",
      "text/plain": [
       "<Figure size 432x288 with 1 Axes>"
      ]
     },
     "metadata": {
      "needs_background": "light"
     },
     "output_type": "display_data"
    }
   ],
   "source": [
    "# Plot Latitude versus Humidity on a scatterplot\n",
    "latitude = cities_df.Lat\n",
    "humidity = cities_df['Humidity']\n",
    "plt.scatter(latitude,humidity)\n",
    "plt.xlabel(\"Latitude\")\n",
    "plt.ylabel(\"Humidity (%)\")\n",
    "plt.title(\"City Latitude vs Humidity (7/30/2021)\")\n",
    "plt.show()"
   ]
  },
  {
   "cell_type": "markdown",
   "metadata": {},
   "source": [
    "## Latitude vs. Cloudiness Plot"
   ]
  },
  {
   "cell_type": "code",
   "execution_count": 54,
   "metadata": {},
   "outputs": [
    {
     "data": {
      "image/png": "[encoded data removed]",
      "text/plain": [
       "<Figure size 432x288 with 1 Axes>"
      ]
     },
     "metadata": {
      "needs_background": "light"
     },
     "output_type": "display_data"
    }
   ],
   "source": [
    "# Plot Latitude versus Cloudiness on a scatterplot\n",
    "latitude = cities_df.Lat\n",
    "cloudiness = cities_df['Cloudiness']\n",
    "plt.scatter(latitude,cloudiness)\n",
    "plt.xlabel(\"Latitude\")\n",
    "plt.ylabel(\"Cloudiness (%)\")\n",
    "plt.title(\"City Latitude vs Cloudiness (7/30/2021)\")\n",
    "plt.show()"
   ]
  },
  {
   "cell_type": "markdown",
   "metadata": {},
   "source": [
    "## Latitude vs. Wind Speed Plot"
   ]
  },
  {
   "cell_type": "code",
   "execution_count": 56,
   "metadata": {},
   "outputs": [
    {
     "data": {
      "image/png": "[encoded data removed]",
      "text/plain": [
       "<Figure size 432x288 with 1 Axes>"
      ]
     },
     "metadata": {
      "needs_background": "light"
     },
     "output_type": "display_data"
    }
   ],
   "source": [
    "# Plot Latitude versus Wind Speed on a scatterplot\n",
    "latitude = cities_df.Lat\n",
    "wind_speed = cities_df['Wind Speed']\n",
    "plt.scatter(latitude,wind_speed)\n",
    "plt.xlabel(\"Latitude\")\n",
    "plt.ylabel(\"Wind Speed (mph)\")\n",
    "plt.title(\"City Latitude vs Wind Speed (7/30/2021)\")\n",
    "plt.show()"
   ]
  },
  {
   "cell_type": "markdown",
   "metadata": {},
   "source": [
    "## Linear Regression"
   ]
  },
  {
   "cell_type": "code",
   "execution_count": 90,
   "metadata": {},
   "outputs": [],
   "source": [
    "#sorting main dataframe into northern and southern dataframes\n",
    "northern_latitude_df = cities_df.loc[(cities_df['Lat'] > 0)]\n",
    "southern_latitude_df = cities_df.loc[(cities_df['Lat'] < 0)]\n"
   ]
  },
  {
   "cell_type": "markdown",
   "metadata": {},
   "source": [
    "####  Northern Hemisphere - Max Temp vs. Latitude Linear Regression"
   ]
  },
  {
   "cell_type": "code",
   "execution_count": 73,
   "metadata": {},
   "outputs": [
    {
     "name": "stdout",
     "output_type": "stream",
     "text": [
      "The r-squared is: 0.4445560600725897\n"
     ]
    },
    {
     "data": {
      "image/png": "[encoded data removed]",
      "text/plain": [
       "<Figure size 432x288 with 1 Axes>"
      ]
     },
     "metadata": {
      "needs_background": "light"
     },
     "output_type": "display_data"
    }
   ],
   "source": [
    "# Northern Hemisphere - Max Temp vs Latitude Linear Regression\n",
    "\n",
    "x_values = northern_latitude_df['Lat']\n",
    "y_values = northern_latitude_df['Max Temp']\n",
    "(slope, intercept, rvalue, pvalue, stderr) = linregress(x_values, y_values)\n",
    "regress_values = x_values * slope + intercept\n",
    "line_eq = \"y = \" + str(round(slope,2)) + \"x + \" + str(round(intercept,2))\n",
    "plt.scatter(x_values,y_values)\n",
    "plt.plot(x_values,regress_values,\"r-\")\n",
    "plt.annotate(line_eq,(3,275),fontsize=15,color=\"red\")\n",
    "plt.xlabel('Latitude')\n",
    "plt.ylabel('Max Temp')\n",
    "print(f\"The r-squared is: {rvalue**2}\")\n",
    "plt.title('Northern Hemisphere - Max Temp vs. Latitude')\n",
    "plt.show()"
   ]
  },
  {
   "cell_type": "markdown",
   "metadata": {},
   "source": [
    "####  Southern Hemisphere - Max Temp vs. Latitude Linear Regression"
   ]
  },
  {
   "cell_type": "code",
   "execution_count": 75,
   "metadata": {},
   "outputs": [
    {
     "name": "stdout",
     "output_type": "stream",
     "text": [
      "The r-squared is: 0.6468682617767053\n"
     ]
    },
    {
     "data": {
      "image/png": "[encoded data removed]",
      "text/plain": [
       "<Figure size 432x288 with 1 Axes>"
      ]
     },
     "metadata": {
      "needs_background": "light"
     },
     "output_type": "display_data"
    }
   ],
   "source": [
    "# Southern Hemisphere - Max Temp vs Latitude Linear Regression\n",
    "\n",
    "x_values = southern_latitude_df['Lat']\n",
    "y_values = southern_latitude_df['Max Temp']\n",
    "(slope, intercept, rvalue, pvalue, stderr) = linregress(x_values, y_values)\n",
    "regress_values = x_values * slope + intercept\n",
    "line_eq = \"y = \" + str(round(slope,2)) + \"x + \" + str(round(intercept,2))\n",
    "plt.scatter(x_values,y_values)\n",
    "plt.plot(x_values,regress_values,\"r-\")\n",
    "plt.annotate(line_eq,(-50,305),fontsize=15,color=\"red\")\n",
    "plt.xlabel('Latitude')\n",
    "plt.ylabel('Max Temp')\n",
    "print(f\"The r-squared is: {rvalue**2}\")\n",
    "plt.title('Southern Hemisphere - Max Temp vs. Latitude')\n",
    "plt.show()"
   ]
  },
  {
   "cell_type": "markdown",
   "metadata": {},
   "source": [
    "####  Northern Hemisphere - Humidity (%) vs. Latitude Linear Regression"
   ]
  },
  {
   "cell_type": "code",
   "execution_count": 78,
   "metadata": {},
   "outputs": [
    {
     "name": "stdout",
     "output_type": "stream",
     "text": [
      "The r-squared is: 0.0006702809257963986\n"
     ]
    },
    {
     "data": {
      "image/png": "[encoded data removed]",
      "text/plain": [
       "<Figure size 432x288 with 1 Axes>"
      ]
     },
     "metadata": {
      "needs_background": "light"
     },
     "output_type": "display_data"
    }
   ],
   "source": [
    "# Northern Hemisphere - Humidity (%) vs Latitude Linear Regression\n",
    "\n",
    "x_values = northern_latitude_df['Lat']\n",
    "y_values = northern_latitude_df['Humidity']\n",
    "(slope, intercept, rvalue, pvalue, stderr) = linregress(x_values, y_values)\n",
    "regress_values = x_values * slope + intercept\n",
    "line_eq = \"y = \" + str(round(slope,2)) + \"x + \" + str(round(intercept,2))\n",
    "plt.scatter(x_values,y_values)\n",
    "plt.plot(x_values,regress_values,\"r-\")\n",
    "plt.annotate(line_eq,(38,10),fontsize=15,color=\"red\")\n",
    "plt.xlabel('Latitude')\n",
    "plt.ylabel('Humidity (%)')\n",
    "print(f\"The r-squared is: {rvalue**2}\")\n",
    "plt.title('Northern Hemisphere - Humidity (%) vs. Latitude')\n",
    "plt.show()"
   ]
  },
  {
   "cell_type": "markdown",
   "metadata": {},
   "source": [
    "####  Southern Hemisphere - Humidity (%) vs. Latitude Linear Regression"
   ]
  },
  {
   "cell_type": "code",
   "execution_count": 80,
   "metadata": {},
   "outputs": [
    {
     "name": "stdout",
     "output_type": "stream",
     "text": [
      "The r-squared is: 9.652791870715505e-05\n"
     ]
    },
    {
     "data": {
      "image/png": "[encoded data removed]",
      "text/plain": [
       "<Figure size 432x288 with 1 Axes>"
      ]
     },
     "metadata": {
      "needs_background": "light"
     },
     "output_type": "display_data"
    }
   ],
   "source": [
    "# Southern Hemisphere - Humidity (%) vs Latitude Linear Regression\n",
    "\n",
    "x_values = southern_latitude_df['Lat']\n",
    "y_values = southern_latitude_df['Humidity']\n",
    "(slope, intercept, rvalue, pvalue, stderr) = linregress(x_values, y_values)\n",
    "regress_values = x_values * slope + intercept\n",
    "line_eq = \"y = \" + str(round(slope,2)) + \"x + \" + str(round(intercept,2))\n",
    "plt.scatter(x_values,y_values)\n",
    "plt.plot(x_values,regress_values,\"r-\")\n",
    "plt.annotate(line_eq,(-50,15),fontsize=15,color=\"red\")\n",
    "plt.xlabel('Latitude')\n",
    "plt.ylabel('Humidity (%)')\n",
    "print(f\"The r-squared is: {rvalue**2}\")\n",
    "plt.title('Southern Hemisphere - Humidity (%) vs. Latitude')\n",
    "plt.show()"
   ]
  },
  {
   "cell_type": "markdown",
   "metadata": {},
   "source": [
    "####  Northern Hemisphere - Cloudiness (%) vs. Latitude Linear Regression"
   ]
  },
  {
   "cell_type": "code",
   "execution_count": 83,
   "metadata": {},
   "outputs": [
    {
     "name": "stdout",
     "output_type": "stream",
     "text": [
      "The r-squared is: 0.000615524402346641\n"
     ]
    },
    {
     "data": {
      "image/png": "[encoded data removed]",
      "text/plain": [
       "<Figure size 432x288 with 1 Axes>"
      ]
     },
     "metadata": {
      "needs_background": "light"
     },
     "output_type": "display_data"
    }
   ],
   "source": [
    "# Northern Hemisphere - Cloudiness (%) vs Latitude Linear Regression\n",
    "\n",
    "x_values = northern_latitude_df['Lat']\n",
    "y_values = northern_latitude_df['Cloudiness']\n",
    "(slope, intercept, rvalue, pvalue, stderr) = linregress(x_values, y_values)\n",
    "regress_values = x_values * slope + intercept\n",
    "line_eq = \"y = \" + str(round(slope,2)) + \"x + \" + str(round(intercept,2))\n",
    "plt.scatter(x_values,y_values)\n",
    "plt.plot(x_values,regress_values,\"r-\")\n",
    "plt.annotate(line_eq,(38,25),fontsize=15,color=\"red\")\n",
    "plt.xlabel('Latitude')\n",
    "plt.ylabel('Cloudiness (%)')\n",
    "print(f\"The r-squared is: {rvalue**2}\")\n",
    "plt.title('Northern Hemisphere - Cloudiness (%) vs. Latitude')\n",
    "plt.show()"
   ]
  },
  {
   "cell_type": "markdown",
   "metadata": {},
   "source": [
    "####  Southern Hemisphere - Cloudiness (%) vs. Latitude Linear Regression"
   ]
  },
  {
   "cell_type": "code",
   "execution_count": 84,
   "metadata": {},
   "outputs": [
    {
     "name": "stdout",
     "output_type": "stream",
     "text": [
      "The r-squared is: 0.01595584317070153\n"
     ]
    },
    {
     "data": {
      "image/png": "[encoded data removed]",
      "text/plain": [
       "<Figure size 432x288 with 1 Axes>"
      ]
     },
     "metadata": {
      "needs_background": "light"
     },
     "output_type": "display_data"
    }
   ],
   "source": [
    "# Southern Hemisphere - Cloudiness (%) vs Latitude Linear Regression\n",
    "\n",
    "x_values = southern_latitude_df['Lat']\n",
    "y_values = southern_latitude_df['Cloudiness']\n",
    "(slope, intercept, rvalue, pvalue, stderr) = linregress(x_values, y_values)\n",
    "regress_values = x_values * slope + intercept\n",
    "line_eq = \"y = \" + str(round(slope,2)) + \"x + \" + str(round(intercept,2))\n",
    "plt.scatter(x_values,y_values)\n",
    "plt.plot(x_values,regress_values,\"r-\")\n",
    "plt.annotate(line_eq,(-50,15),fontsize=15,color=\"red\")\n",
    "plt.xlabel('Latitude')\n",
    "plt.ylabel('Cloudiness (%)')\n",
    "print(f\"The r-squared is: {rvalue**2}\")\n",
    "plt.title('Southern Hemisphere - Cloudiness (%) vs. Latitude')\n",
    "plt.show()"
   ]
  },
  {
   "cell_type": "markdown",
   "metadata": {},
   "source": [
    "####  Northern Hemisphere - Wind Speed (mph) vs. Latitude Linear Regression"
   ]
  },
  {
   "cell_type": "code",
   "execution_count": 86,
   "metadata": {},
   "outputs": [
    {
     "name": "stdout",
     "output_type": "stream",
     "text": [
      "The r-squared is: 1.2064612795910764e-05\n"
     ]
    },
    {
     "data": {
      "image/png": "[encoded data removed]",
      "text/plain": [
       "<Figure size 432x288 with 1 Axes>"
      ]
     },
     "metadata": {
      "needs_background": "light"
     },
     "output_type": "display_data"
    }
   ],
   "source": [
    "# Northern Hemisphere - Wind Speed (mph) vs Latitude Linear Regression\n",
    "\n",
    "x_values = northern_latitude_df['Lat']\n",
    "y_values = northern_latitude_df['Wind Speed']\n",
    "(slope, intercept, rvalue, pvalue, stderr) = linregress(x_values, y_values)\n",
    "regress_values = x_values * slope + intercept\n",
    "line_eq = \"y = \" + str(round(slope,2)) + \"x + \" + str(round(intercept,2))\n",
    "plt.scatter(x_values,y_values)\n",
    "plt.plot(x_values,regress_values,\"r-\")\n",
    "plt.annotate(line_eq,(5,12),fontsize=15,color=\"red\")\n",
    "plt.xlabel('Latitude')\n",
    "plt.ylabel('Wind Speed (mph)')\n",
    "print(f\"The r-squared is: {rvalue**2}\")\n",
    "plt.title('Northern Hemisphere - Wind Speed (mph) vs. Latitude')\n",
    "plt.show()"
   ]
  },
  {
   "cell_type": "markdown",
   "metadata": {},
   "source": [
    "####  Southern Hemisphere - Wind Speed (mph) vs. Latitude Linear Regression"
   ]
  },
  {
   "cell_type": "code",
   "execution_count": 88,
   "metadata": {},
   "outputs": [
    {
     "name": "stdout",
     "output_type": "stream",
     "text": [
      "The r-squared is: 0.011345198414329497\n"
     ]
    },
    {
     "data": {
      "image/png": "[encoded data removed]",
      "text/plain": [
       "<Figure size 432x288 with 1 Axes>"
      ]
     },
     "metadata": {
      "needs_background": "light"
     },
     "output_type": "display_data"
    }
   ],
   "source": [
    "# Southern Hemisphere - Wind Speed vs Latitude Linear Regression\n",
    "\n",
    "x_values = southern_latitude_df['Lat']\n",
    "y_values = southern_latitude_df['Wind Speed']\n",
    "(slope, intercept, rvalue, pvalue, stderr) = linregress(x_values, y_values)\n",
    "regress_values = x_values * slope + intercept\n",
    "line_eq = \"y = \" + str(round(slope,2)) + \"x + \" + str(round(intercept,2))\n",
    "plt.scatter(x_values,y_values)\n",
    "plt.plot(x_values,regress_values,\"r-\")\n",
    "plt.annotate(line_eq,(-50,12),fontsize=15,color=\"red\")\n",
    "plt.xlabel('Latitude')\n",
    "plt.ylabel('Wind Speed (mph)')\n",
    "print(f\"The r-squared is: {rvalue**2}\")\n",
    "plt.title('Southern Hemisphere - Wind Speed (mph) vs. Latitude')\n",
    "plt.show()"
   ]
  },
  {
   "cell_type": "code",
   "execution_count": null,
   "metadata": {},
   "outputs": [],
   "source": []
  }
 ],
 "metadata": {
  "anaconda-cloud": {},
  "kernel_info": {
   "name": "python3"
  },
  "kernelspec": {
   "display_name": "Python 3",
   "language": "python",
   "name": "python3"
  },
  "language_info": {
   "codemirror_mode": {
    "name": "ipython",
    "version": 3
   },
   "file_extension": ".py",
   "mimetype": "text/x-python",
   "name": "python",
   "nbconvert_exporter": "python",
   "pygments_lexer": "ipython3",
   "version": "3.8.8"
  },
  "latex_envs": {
   "LaTeX_envs_menu_present": true,
   "autoclose": false,
   "autocomplete": true,
   "bibliofile": "biblio.bib",
   "cite_by": "apalike",
   "current_citInitial": 1,
   "eqLabelWithNumbers": true,
   "eqNumInitial": 1,
   "hotkeys": {
    "equation": "Ctrl-E",
    "itemize": "Ctrl-I"
   },
   "labels_anchors": false,
   "latex_user_defs": false,
   "report_style_numbering": false,
   "user_envs_cfg": false
  },
  "nteract": {
   "version": "0.12.3"
  }
 },
 "nbformat": 4,
 "nbformat_minor": 2
}
